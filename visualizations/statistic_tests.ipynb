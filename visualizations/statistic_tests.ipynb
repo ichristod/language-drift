{
 "cells": [
  {
   "cell_type": "code",
   "execution_count": null,
   "outputs": [],
   "source": [
    "import glob\n",
    "import matplotlib.pyplot as plt\n",
    "import numpy as np\n",
    "import pandas as pd\n",
    "import seaborn as sns\n",
    "\n",
    "\n",
    "metrics = ['f1_cd','f1_ln']\n",
    "mappings = ['incremental','procrustes','twec']\n",
    "embeddings = ['pretrained','none']\n",
    "results_path = './output/**/**/results'\n",
    "\n",
    "\n",
    "results_df = pd.DataFrame()\n",
    "path = '../output/**/**/results'\n",
    "text_files = set(glob.glob(path + \"/**/*.pkl\", recursive=True))\n",
    "for file in text_files:\n",
    "    results_df = pd.concat([results_df, pd.read_pickle(file)], ignore_index=True, axis=0)\n",
    "\n",
    "results_df.to_csv('../language_drift_results', index=False)\n",
    "\n",
    "results_df = pd.read_csv('../language_drift_results')\n",
    "print(results_df.head())"
   ],
   "metadata": {
    "collapsed": false,
    "pycharm": {
     "name": "#%%\n"
    }
   }
  },
  {
   "cell_type": "markdown",
   "source": [
    "## Research Questions\n",
    "### 1. Which vectors' alignment method performs better?\n",
    "\n",
    "### Null Hypothesis: \n",
    "Αll mapping methods we investigate(‘procrustes’, ‘incremental’, ‘twec’) perform equally across different executions on the same datasets and parameters.\n"
   ],
   "metadata": {
    "collapsed": false,
    "pycharm": {
     "name": "#%% md\n"
    }
   }
  },
  {
   "cell_type": "code",
   "execution_count": null,
   "outputs": [],
   "source": [
    "# deep copy\n",
    "mapping_df = results_df.copy(deep=True)\n",
    "# remove \"lda2vec\" and \"pretrained\" executions\n",
    "#mapping_df = mapping_df.loc[(mapping_df['pretrained'] == 'None') & (mapping_df['w2vec_algorithm'] != 'lda2vec')]\n",
    "\n",
    "\n",
    "\n",
    "mapping_df = mapping_df.drop(mapping_df[((mapping_df['pretrained'] == 'None') \n",
    "                                         & (mapping_df['w2vec_algorithm'] != 'lda2vec'))])\n",
    "                                         \n",
    "                                         \n",
    "# remove unnecassery columns\n",
    "mapping_df = mapping_df.drop(['precision_cd','precision_ln','accuracy_cd','accuracy_ln',\n",
    "          'recall_cd','recall_ln','data_set_id','dim','window_size','pretrained','t'],axis=1)\n",
    "\n",
    "mapping_df = mapping_df.melt(id_vars=[\"language\", \"w2vec_algorithm\",\"mapping\"], \n",
    "        var_name=\"metric\", \n",
    "        value_name=\"f1_score\")\n",
    "\n",
    "# remove Nan values from f1_scores\n",
    "mapping_df = mapping_df[mapping_df['f1_score'].notna()]\n",
    "\n",
    "# remove unnecassery columns\n",
    "mapping_df = mapping_df.drop('metric',axis=1)\n",
    "\n",
    "# create pivot table\n",
    "#pivot_mappings = mapping_df.pivot_table(index=['language','w2vec_algorithm'], columns=\"mapping\", values=['f1_score']).reset_index()\n",
    "#pivot_cd['mean_f1'] = pivot_cd.loc[:, (['f1_cd','f1_ln'], slice(None))].mean(axis=1)\n",
    "print(mapping_df.head())\n",
    "print(mapping_df.head())"
   ],
   "metadata": {
    "collapsed": false,
    "pycharm": {
     "name": "#%%\n"
    }
   }
  },
  {
   "cell_type": "markdown",
   "source": [
    "### 1. Shapiro-Wilk Test (checks normality of distribution)"
   ],
   "metadata": {
    "collapsed": false,
    "pycharm": {
     "name": "#%% md\n"
    }
   }
  },
  {
   "cell_type": "code",
   "execution_count": null,
   "outputs": [],
   "source": [
    "# Shapiro-Wilk test\n",
    "from collections import defaultdict\n",
    "from scipy import stats\n",
    "\n",
    "alpha =0.05\n",
    "\n",
    "print(\"Shapiro-Wilk test for normal distribution: \\n\")\n",
    "mapping_normality_dict = defaultdict()\n",
    "for mapping in mappings:\n",
    "    stat, p = stats.shapiro( mapping_df.loc[mapping_df['mapping'] == str(mapping),'f1_score'])\n",
    "    print(mapping)\n",
    "    if p >= alpha:\n",
    "        print(\"\\t has a normal distribution with pvalue = \"+ str(p) + \", stat=\",str(stat))\n",
    "        mapping_normality_dict[mapping] = True\n",
    "    else:\n",
    "        print(\"\\t has NOT a normal distribution with pvalue = \", p, \"stat=\",stat)\n",
    "        mapping_normality_dict[mapping] = False"
   ],
   "metadata": {
    "collapsed": false,
    "pycharm": {
     "name": "#%%\n"
    }
   }
  },
  {
   "cell_type": "markdown",
   "source": [
    "### Normality Results\n",
    "**Incremental** and **twec** method can be described by the normal distribution.\n",
    "\n",
    "However since **procrustes** method does not meet the criteria of the normality <u>we have to go through with non parapetric tests.</u>"
   ],
   "metadata": {
    "collapsed": false,
    "pycharm": {
     "name": "#%% md\n"
    }
   }
  },
  {
   "cell_type": "markdown",
   "source": [
    "### 1.2 Friedman test (non parametric - normality is not a prerequisite)\n",
    "* Prerequisites (non normal distributions, paired samples, more than two groups)\n",
    "* Samples are paired since all variables except the under investigation variable are shared among the different populations\n",
    "* H0: Populations have same distributions\n"
   ],
   "metadata": {
    "collapsed": false,
    "pycharm": {
     "name": "#%% md\n"
    }
   }
  },
  {
   "cell_type": "code",
   "execution_count": null,
   "outputs": [],
   "source": [
    "# Friedman test (non parametric - normality is not a prerequisite)\n",
    "# Compare groups of incremental, procrustes and twec\n",
    "\n",
    "alpha =0.05\n",
    "\n",
    "print(\"Friedman H-test: \\n\\n incremental-procrustes\")\n",
    "stat, p = stats.friedmanchisquare(\n",
    "    mapping_df.loc[mapping_df['mapping'] == 'incremental','f1_score'],\n",
    "    mapping_df.loc[mapping_df['mapping'] == 'procrustes','f1_score'],\n",
    "    mapping_df.loc[mapping_df['mapping'] == 'twec','f1_score'])\n",
    "\n",
    "if p >= alpha:\n",
    "    print(\"    Same distributions (fail to reject H0) with pvalue = \",p, \"stat=\",stat)\n",
    "else:\n",
    "    print(\"    Different distributions (reject H0) = \", p, \"stat=\",stat)\n"
   ],
   "metadata": {
    "collapsed": false,
    "pycharm": {
     "name": "#%%\n"
    }
   }
  },
  {
   "cell_type": "code",
   "execution_count": null,
   "outputs": [],
   "source": [
    "### Wilcoxon Signed-Rank Test (non parametric - normality is not a prerequisite)\n",
    "* Prerequisites (non normal distributions, paired samples, two populations)\n",
    "* Samples are paired since all variables except the under investigation variable are shared among the different populations\n",
    "* H0: Populations have same distributions\n"
   ],
   "metadata": {
    "collapsed": false,
    "pycharm": {
     "name": "#%%\n"
    }
   }
  },
  {
   "cell_type": "code",
   "execution_count": null,
   "outputs": [],
   "source": [
    "# Wilcoxon Signed-Rank Test (non parametric - normality is not a prerequisite)\n",
    "# Compare groups of incremental, procrustes and twec\n",
    "\n",
    "# Kruskal-Wallis H-test (non parametric - normality is not a prerequisite)\n",
    "# Compare groups of rbf-svm, linear, sigmoid, poly.\n",
    "\n",
    "alpha =0.05\n",
    "\n",
    "print(\"Wilcoxon Signed-Rank H-test: \\n\\n incremental-procrustes\")\n",
    "stat, p = stats.wilcoxon(\n",
    "    mapping_df.loc[mapping_df['mapping'] == 'incremental','f1_score'],\n",
    "    mapping_df.loc[mapping_df['mapping'] == 'procrustes','f1_score'])\n",
    "\n",
    "if p < alpha:\n",
    "    print(\"    Null Hypothesis REJECTED with pvalue = \", p, \"stat=\",stat)\n",
    "else:\n",
    "    print(\"    Null hypothesis was ACCEPTED with pvalue = \",p, \"stat=\",stat)\n",
    "    \n",
    "print(\"\\n incremental-twec\")\n",
    "stat, p = stats.wilcoxon(\n",
    "    mapping_df.loc[mapping_df['mapping'] == 'incremental','f1_score'],\n",
    "    mapping_df.loc[mapping_df['mapping'] == 'twec','f1_score'])\n",
    "\n",
    "if p < alpha:\n",
    "    print(\"    Null Hypothesis REJECTED with pvalue = \", p, \"stat=\",stat)\n",
    "else:\n",
    "    print(\"    Null hypothesis was ACCEPTED with pvalue = \",p, \"stat=\",stat)\n",
    "\n",
    "print(\"\\n procrustes-twec\")\n",
    "stat, p = stats.wilcoxon(\n",
    "    mapping_df.loc[mapping_df['mapping'] == 'procrustes','f1_score'],\n",
    "    mapping_df.loc[mapping_df['mapping'] == 'twec','f1_score'])\n",
    "\n",
    "if p < alpha:\n",
    "    print(\"    Null Hypothesis REJECTED with pvalue = \", p, \"stat=\",stat)\n",
    "else:\n",
    "    print(\"    Null hypothesis was ACCEPTED with pvalue = \",p, \"stat=\",stat)"
   ],
   "metadata": {
    "collapsed": false,
    "pycharm": {
     "name": "#%%\n"
    }
   }
  },
  {
   "cell_type": "code",
   "execution_count": null,
   "outputs": [],
   "source": [
    "### Kruskal-Wallis Test is not the proper statistical test!!!\n",
    "### Samples are paired since all variables except the under investigation variable are shared among the different populations"
   ],
   "metadata": {
    "collapsed": false,
    "pycharm": {
     "name": "#%%\n"
    }
   }
  },
  {
   "cell_type": "code",
   "execution_count": null,
   "outputs": [],
   "source": [
    "# Kruskal-Wallis H-test (non parametric - normality is not a prerequisite)\n",
    "# Compare groups of rbf-svm, linear, sigmoid, poly.\n",
    "\n",
    "alpha =0.05\n",
    "\n",
    "print(\"Kruskal-Wallis H-test: \\n\\n incremental-procrustes\")\n",
    "stat, p = stats.kruskal(\n",
    "    mapping_df.loc[mapping_df['mapping'] == 'incremental','f1_score'],\n",
    "    mapping_df.loc[mapping_df['mapping'] == 'procrustes','f1_score'])\n",
    "\n",
    "if p < alpha:\n",
    "    print(\"    Null Hypothesis REJECTED with pvalue = \", p, \"stat=\",stat)\n",
    "else:\n",
    "    print(\"    Null hypothesis was ACCEPTED with pvalue = \",p, \"stat=\",stat)\n",
    "    \n",
    "print(\"\\n incremental-twec\")\n",
    "stat, p = stats.kruskal(\n",
    "    mapping_df.loc[mapping_df['mapping'] == 'incremental','f1_score'],\n",
    "    mapping_df.loc[mapping_df['mapping'] == 'twec','f1_score'])\n",
    "\n",
    "if p < alpha:\n",
    "    print(\"    Null Hypothesis REJECTED with pvalue = \", p, \"stat=\",stat)\n",
    "else:\n",
    "    print(\"    Null hypothesis was ACCEPTED with pvalue = \",p, \"stat=\",stat)\n",
    "\n",
    "print(\"\\n procrustes-twec\")\n",
    "stat, p = stats.kruskal(\n",
    "    mapping_df.loc[mapping_df['mapping'] == 'procrustes','f1_score'],\n",
    "    mapping_df.loc[mapping_df['mapping'] == 'twec','f1_score'])\n",
    "\n",
    "if p < alpha:\n",
    "    print(\"    Null Hypothesis REJECTED with pvalue = \", p, \"stat=\",stat)\n",
    "else:\n",
    "    print(\"    Null hypothesis was ACCEPTED with pvalue = \",p, \"stat=\",stat)"
   ],
   "metadata": {
    "collapsed": false,
    "pycharm": {
     "name": "#%%\n"
    }
   }
  },
  {
   "cell_type": "markdown",
   "source": [
    "### Results\n",
    "In the implemented **Word2Vec** parameter setting:\n",
    "- **embeddings_dimension = 100**\n",
    "- **window_size = 10**\n",
    "- **min_count = 3** (number of occurences)\n",
    "- **s = 0.001** (threshold for configuring which higher-frequency words are randomly downsampled)\n",
    "- **k = 5** number of negative samples parameter \n",
    "- **epochs = 5**\n",
    "\n",
    "After the execution on the following combinations:\n",
    "- **cbow-sgns** (algorithm)\n",
    "- **incremental-procrustes-twec** (alignment)\n",
    "- **en-de-swe-lat** (languages)\n",
    "- **cd-ln** (metrics of cosine distance and local_neighborhood measure)\n",
    "\n",
    "We had the chance to investigated the result of 80 executions ()"
   ],
   "metadata": {
    "collapsed": false,
    "pycharm": {
     "name": "#%% md\n"
    }
   }
  },
  {
   "cell_type": "code",
   "execution_count": null,
   "metadata": {
    "pycharm": {
     "name": "#%%\n"
    }
   },
   "outputs": [],
   "source": [
    "sns.set()\n",
    "fig, ax = plt.subplots(figsize=(12,8))\n",
    "sns.boxplot( saturation=1, palette='BuGn',ax=ax, whis=[5, 95],x=mapping_df['mapping'],y=mapping_df['f1_score'])\n",
    "# specify axis labels\n",
    "plt.xlabel('', size=14, family='monospace')\n",
    "plt.ylabel('', size=14, family='monospace')\n",
    "plt.title('F1 Scores per Alignment Method')\n",
    "plt.show()"
   ]
  },
  {
   "cell_type": "code",
   "execution_count": null,
   "metadata": {
    "pycharm": {
     "name": "#%%\n"
    }
   },
   "outputs": [],
   "source": [
    "\"\"\"\n",
    "\n",
    "final_mappings = pivot_mappings\n",
    "\n",
    "count=1\n",
    "# create dataframe containing mean f1 scores of each mapping across different metrics\n",
    "for mapping in mappings:\n",
    "    result = 0\n",
    "    for metric in metrics:\n",
    "        result += pivot_mappings[metric][mapping]\n",
    "        final_mappings = final_mappings.drop((metric, mapping), axis = 1)\n",
    "    result =result/(len(metrics))\n",
    "    \n",
    "    final_mappings = pd.concat([final_mappings, result], axis=1)\n",
    "\n",
    "#del pivot_cd\n",
    "# fix dataframe naming\n",
    "final_mappings.rename(columns = {('language', ''):'language',('w2vec_algorithm', ''):'w2vec'}, inplace = True)\n",
    "print(final_mappings)\n",
    "\n",
    "for i in range(1):\n",
    "    print(type(pivot_cd.xs('procrustes', axis=1, level=1, drop_level=False).mean(axis=1)))\n",
    "    print(pivot_cd.xs('procrustes', axis=1, level=1, drop_level=False))\n",
    "    print(pivot_cd.xs('f1_cd', axis=1, level=0, drop_level=False))\n",
    "pivot_ln = df.pivot_table(index=['language','w2vec_algorithm'], columns=\"mapping\", values=['f1_ln'])\n",
    "print(pivot_ln)\n",
    "\"\"\""
   ]
  },
  {
   "cell_type": "markdown",
   "metadata": {
    "pycharm": {
     "name": "#%% md\n"
    }
   },
   "source": [
    "## Research Questions\n",
    "#### 2. Do pretrained embeddings improve performance? in cases of procrustes and incremental alignment methods?\n",
    "#### Null Hypothesis: \n",
    "Executions with pretrained embeddings perform equally with those that haven't been prior initialized."
   ]
  },
  {
   "cell_type": "code",
   "execution_count": null,
   "metadata": {
    "pycharm": {
     "name": "#%%\n"
    }
   },
   "outputs": [],
   "source": [
    "# deep copy\n",
    "pretrained_df = results_df.copy(deep=True)\n",
    "# remove \"lda2vec\" \n",
    "pretrained_df = pretrained_df.loc[(pretrained_df['w2vec_algorithm'] != 'lda2vec')]\n",
    "\n",
    "# remove unnecassery columns\n",
    "pretrained_df = pretrained_df.drop(['precision_cd','precision_ln','accuracy_cd','accuracy_ln',\n",
    "          'recall_cd','recall_ln','data_set_id','dim','window_size','t','mapping'],axis=1)\n",
    "\n",
    "# transform 'f1_cd', 'f1_ln' columns to 'f1_score' column\n",
    "pretrained_df = pretrained_df.melt(id_vars=[\"language\", \"w2vec_algorithm\",\"pretrained\"], \n",
    "        var_name=\"metric\", \n",
    "        value_name=\"f1_score\")\n",
    "\n",
    "# remove Nan values from f1_scores\n",
    "pretrained_df = pretrained_df[pretrained_df['f1_score'].notna()]\n",
    "\n",
    "# remove unnecassery columns\n",
    "pretrained_df = pretrained_df.drop('metric',axis=1)\n",
    "\n",
    "pretrained_df['pretrained'] = np.where(pretrained_df['pretrained'] == \"None\", 'none', 'pretrained')\n",
    "print(pretrained_df.head())"
   ]
  },
  {
   "cell_type": "markdown",
   "metadata": {
    "pycharm": {
     "name": "#%% md\n"
    }
   },
   "source": [
    "### Shapiro-Wilk Test"
   ]
  },
  {
   "cell_type": "code",
   "execution_count": null,
   "metadata": {
    "pycharm": {
     "name": "#%%\n"
    }
   },
   "outputs": [],
   "source": [
    "# Shapiro-Wilk test\n",
    "from scipy import stats\n",
    "alpha =0.5\n",
    "\n",
    "print(\"Test f1 scores normality for: \\n\")\n",
    "for embedding in embeddings:\n",
    "    stat, p = stats.shapiro( pretrained_df.loc[pretrained_df['pretrained'] == str(embedding),'f1_score'])\n",
    "    print(embedding,\" embeddings\")\n",
    "    if p < alpha:\n",
    "        print(\"    Hypothesis of normality REJECTED with pvalue = \", p, \"stat=\",stat)\n",
    "    else:\n",
    "        print(\"    Hypothesis of normality was ACCEPTED with pvalue = \",p, \"stat=\",stat)"
   ]
  },
  {
   "cell_type": "code",
   "execution_count": null,
   "metadata": {
    "pycharm": {
     "name": "#%%\n"
    }
   },
   "outputs": [],
   "source": [
    "### Kruskal-Wallis Test"
   ]
  },
  {
   "cell_type": "code",
   "execution_count": null,
   "metadata": {
    "pycharm": {
     "name": "#%%\n"
    }
   },
   "outputs": [],
   "source": [
    "# Kruskal-Wallis H-test (non parametric - normality is not a prerequisite)\n",
    "# Compare groups of rbf-svm, linear, sigmoid, poly.\n",
    "\n",
    "alpha =0.08\n",
    "\n",
    "print(\"Kruskal-Wallis H-test: \\n\\n pretrained - none \")\n",
    "stat, p = stats.kruskal(\n",
    "    pretrained_df.loc[pretrained_df['pretrained'] == 'none','f1_score'],\n",
    "    pretrained_df.loc[pretrained_df['pretrained'] == 'pretrained','f1_score'])\n",
    "\n",
    "if p < alpha:\n",
    "    print(\"    Null Hypothesis REJECTED with pvalue = \", p, \"stat=\",stat)\n",
    "else:\n",
    "    print(\"    Null hypothesis was ACCEPTED with pvalue = \",p, \"stat=\",stat)\n",
    "    "
   ]
  },
  {
   "cell_type": "markdown",
   "metadata": {
    "pycharm": {
     "name": "#%% md\n"
    }
   },
   "source": [
    "### Results\n",
    "The usage of pretrained embeddings improves F1 scores. "
   ]
  },
  {
   "cell_type": "code",
   "execution_count": null,
   "metadata": {
    "pycharm": {
     "name": "#%%\n"
    }
   },
   "outputs": [],
   "source": [
    "sns.set()\n",
    "fig, ax = plt.subplots(figsize=(12,8))\n",
    "sns.boxplot( saturation=1, palette='BuGn',ax=ax, whis=[5, 95],x=pretrained_df['pretrained'],y=pretrained_df['f1_score'])\n",
    "# specify axis labels\n",
    "plt.xlabel('', size=14, family='monospace')\n",
    "plt.ylabel('', size=14, family='monospace')\n",
    "plt.title('F1 Scores per Pretrained Embeddings Method')\n",
    "plt.show()"
   ]
  },
  {
   "cell_type": "code",
   "execution_count": null,
   "metadata": {
    "pycharm": {
     "name": "#%%\n"
    }
   },
   "outputs": [],
   "source": [
    "# Kruskal-Wallis H-test (non parametric - normality is not a prerequisite)\n",
    "# Compare groups of rbf-svm, linear, sigmoid, poly.\n",
    "\n",
    "alpha =0.08\n",
    "\n",
    "print(\"Kruskal-Wallis H-test: \\n\\n pretrained - none \")\n",
    "stat, p = stats.kruskal(\n",
    "    pretrained_df.loc[pretrained_df['pretrained'] == 'none','f1_score'],\n",
    "    pretrained_df.loc[pretrained_df['pretrained'] == 'pretrained','f1_score'])\n",
    "\n",
    "if p < alpha:\n",
    "    print(\"    Null Hypothesis REJECTED with pvalue = \", p, \"stat=\",stat)\n",
    "else:\n",
    "    print(\"    Null hypothesis was ACCEPTED with pvalue = \",p, \"stat=\",stat)\n",
    "    "
   ]
  },
  {
   "cell_type": "markdown",
   "metadata": {
    "pycharm": {
     "name": "#%% md\n"
    }
   },
   "source": [
    "### Results\n",
    "The usage of pretrained embeddings improves F1 scores. "
   ]
  },
  {
   "cell_type": "code",
   "execution_count": null,
   "metadata": {
    "pycharm": {
     "name": "#%%\n"
    }
   },
   "outputs": [],
   "source": [
    "sns.set()\n",
    "fig, ax = plt.subplots(figsize=(12,8))\n",
    "sns.boxplot( saturation=1, palette='BuGn',ax=ax, whis=[5, 95],x=pretrained_df['pretrained'],y=pretrained_df['f1_score'])\n",
    "# specify axis labels\n",
    "plt.xlabel('', size=14, family='monospace')\n",
    "plt.ylabel('', size=14, family='monospace')\n",
    "plt.title('F1 Scores per Pretrained Embeddings Method')\n",
    "plt.show()"
   ]
  },
  {
   "cell_type": "code",
   "execution_count": null,
   "metadata": {
    "pycharm": {
     "name": "#%%\n"
    }
   },
   "outputs": [],
   "source": []
  },
  {
   "cell_type": "code",
   "execution_count": 17,
   "metadata": {
    "pycharm": {
     "name": "#%%\n"
    }
   },
   "outputs": [
    {
     "name": "stdout",
     "output_type": "stream",
     "text": [
      "Kruskal-Wallis H-test: \n",
      "\n",
      " pretrained - none \n",
      "    Null Hypothesis REJECTED with pvalue =  0.0059728160542482445 stat= 7.558485638878811\n"
     ]
    }
   ],
   "source": [
    "# Kruskal-Wallis H-test (non parametric - normality is not a prerequisite)\n",
    "# Compare groups of rbf-svm, linear, sigmoid, poly.\n",
    "\n",
    "alpha =0.08\n",
    "\n",
    "print(\"Kruskal-Wallis H-test: \\n\\n pretrained - none \")\n",
    "stat, p = stats.kruskal(\n",
    "    pretrained_df.loc[pretrained_df['pretrained'] == 'none','f1_score'],\n",
    "    pretrained_df.loc[pretrained_df['pretrained'] == 'pretrained','f1_score'])\n",
    "\n",
    "if p < alpha:\n",
    "    print(\"    Null Hypothesis REJECTED with pvalue = \", p, \"stat=\",stat)\n",
    "else:\n",
    "    print(\"    Null hypothesis was ACCEPTED with pvalue = \",p, \"stat=\",stat)\n",
    "    "
   ]
  },
  {
   "cell_type": "markdown",
   "metadata": {
    "pycharm": {
     "name": "#%% md\n"
    }
   },
   "source": [
    "### Results\n",
    "The usage of pretrained embeddings improves F1 scores. "
   ]
  },
  {
   "cell_type": "code",
   "execution_count": 18,
   "metadata": {
    "pycharm": {
     "name": "#%%\n"
    }
   },
   "outputs": [
    {
     "data": {
      "image/png": "[encoded data removed]",
      "text/plain": [
       "<Figure size 864x576 with 1 Axes>"
      ]
     },
     "metadata": {},
     "output_type": "display_data"
    }
   ],
   "source": [
    "sns.set()\n",
    "fig, ax = plt.subplots(figsize=(12,8))\n",
    "sns.boxplot( saturation=1, palette='BuGn',ax=ax, whis=[5, 95],x=pretrained_df['pretrained'],y=pretrained_df['f1_score'])\n",
    "# specify axis labels\n",
    "plt.xlabel('', size=14, family='monospace')\n",
    "plt.ylabel('', size=14, family='monospace')\n",
    "plt.title('F1 Scores per Pretrained Embeddings Method')\n",
    "plt.show()"
   ]
  },
  {
   "cell_type": "code",
   "execution_count": 19,
   "metadata": {},
   "outputs": [
    {
     "name": "stdout",
     "output_type": "stream",
     "text": [
      "Kruskal-Wallis H-test: \n",
      "\n",
      " pretrained - none \n",
      "    Null Hypothesis REJECTED with pvalue =  0.0059728160542482445 stat= 7.558485638878811\n"
     ]
    }
   ],
   "source": [
    "# Kruskal-Wallis H-test (non parametric - normality is not a prerequisite)\n",
    "# Compare groups of rbf-svm, linear, sigmoid, poly.\n",
    "\n",
    "alpha =0.08\n",
    "\n",
    "print(\"Kruskal-Wallis H-test: \\n\\n pretrained - none \")\n",
    "stat, p = stats.kruskal(\n",
    "    pretrained_df.loc[pretrained_df['pretrained'] == 'none','f1_score'],\n",
    "    pretrained_df.loc[pretrained_df['pretrained'] == 'pretrained','f1_score'])\n",
    "\n",
    "if p < alpha:\n",
    "    print(\"    Null Hypothesis REJECTED with pvalue = \", p, \"stat=\",stat)\n",
    "else:\n",
    "    print(\"    Null hypothesis was ACCEPTED with pvalue = \",p, \"stat=\",stat)\n",
    "    "
   ]
  },
  {
   "cell_type": "markdown",
   "metadata": {},
   "source": [
    "### Results\n",
    "The usage of pretrained embeddings improves F1 scores. "
   ]
  },
  {
   "cell_type": "code",
   "execution_count": 20,
   "metadata": {},
   "outputs": [
    {
     "data": {
      "image/png": "[encoded data removed]",
      "text/plain": [
       "<Figure size 864x576 with 1 Axes>"
      ]
     },
     "metadata": {},
     "output_type": "display_data"
    }
   ],
   "source": [
    "sns.set()\n",
    "fig, ax = plt.subplots(figsize=(12,8))\n",
    "sns.boxplot( saturation=1, palette='BuGn',ax=ax, whis=[5, 95],x=pretrained_df['pretrained'],y=pretrained_df['f1_score'])\n",
    "# specify axis labels\n",
    "plt.xlabel('', size=14, family='monospace')\n",
    "plt.ylabel('', size=14, family='monospace')\n",
    "plt.title('F1 Scores per Pretrained Embeddings Method')\n",
    "plt.show()"
   ]
  },
  {
   "cell_type": "code",
   "execution_count": null,
   "metadata": {
    "pycharm": {
     "name": "#%%\n"
    }
   },
   "outputs": [],
   "source": []
  },
  {
   "cell_type": "code",
   "execution_count": null,
   "metadata": {
    "pycharm": {
     "name": "#%%\n"
    }
   },
   "outputs": [],
   "source": []
  },
  {
   "cell_type": "code",
   "execution_count": null,
   "metadata": {
    "pycharm": {
     "name": "#%%\n"
    }
   },
   "outputs": [],
   "source": [
    "## Research Questions\n",
    "#### 2. Do pretrained embeddings improve performance? in cases of procrustes and incremental alignment methods?\n",
    "#### Null Hypothesis: \n",
    "Executions with pretrained embeddings perform equally with those that haven't been prior initialized."
   ]
  },
  {
   "cell_type": "markdown",
   "metadata": {
    "pycharm": {
     "name": "#%% md\n"
    }
   },
   "source": [
    "## Research Questions\n",
    "#### 2. Do pretrained embeddings improve performance? in cases of procrustes and incremental alignment methods?\n",
    "#### Null Hypothesis: \n",
    "Executions with pretrained embeddings perform equally with those that haven't been prior initialized."
   ]
  },
  {
   "cell_type": "code",
   "execution_count": null,
   "metadata": {},
   "outputs": [],
   "source": [
    "final_mappings = pivot_mappings\n",
    "\n",
    "count=1\n",
    "# create dataframe containing mean f1 scores of each mapping across different metrics\n",
    "for mapping in mappings:\n",
    "    result = 0\n",
    "    for metric in metrics:\n",
    "        result += pivot_mappings[metric][mapping]\n",
    "        final_mappings = final_mappings.drop((metric, mapping), axis = 1)\n",
    "    result =result/(len(metrics))\n",
    "    \n",
    "    final_mappings = pd.concat([final_mappings, result], axis=1)\n",
    "\n",
    "#del pivot_cd\n",
    "# fix dataframe naming\n",
    "final_mappings.rename(columns = {('language', ''):'language',('w2vec_algorithm', ''):'w2vec','incremental':'mean_incremental',\n",
    "                        'procrustes':'mean_procrustes','twec':'mean_twec'}, inplace = True)\n",
    "print(final_mappings)\n"
   ]
  },
  {
   "cell_type": "markdown",
   "metadata": {},
   "source": [
    "### Shapiro-Wilk Test"
   ]
  },
  {
   "cell_type": "markdown",
   "metadata": {
    "pycharm": {
     "name": "#%%\n"
    }
   },
   "source": [
    "### Kruskal-Wallis Test"
   ]
  },
  {
   "cell_type": "code",
   "execution_count": null,
   "metadata": {},
   "outputs": [],
   "source": [
    "\"\"\"\n",
    "for i in range(1):\n",
    "    print(type(pivot_cd.xs('procrustes', axis=1, level=1, drop_level=False).mean(axis=1)))\n",
    "    print(pivot_cd.xs('procrustes', axis=1, level=1, drop_level=False))\n",
    "    print(pivot_cd.xs('f1_cd', axis=1, level=0, drop_level=False))\n",
    "pivot_ln = df.pivot_table(index=['language','w2vec_algorithm'], columns=\"mapping\", values=['f1_ln'])\n",
    "print(pivot_ln)\n",
    "\"\"\""
   ]
  },
  {
   "cell_type": "code",
   "execution_count": null,
   "metadata": {},
   "outputs": [],
   "source": []
  },
  {
   "cell_type": "markdown",
   "metadata": {
    "pycharm": {
     "name": "#%%\n"
    }
   },
   "source": [
    "## Research Questions\n",
    "#### 2. Do pretrained embeddings improve performance? in cases of procrustes and incremental alignment methods?\n",
    "#### Null Hypothesis: \n",
    "Executions with pretrained embeddings perform equally with those that haven't been prior initialized."
   ]
  },
  {
   "cell_type": "code",
   "execution_count": null,
   "metadata": {},
   "outputs": [],
   "source": []
  }
 ],
 "metadata": {
  "kernelspec": {
   "display_name": "test-thesis",
   "language": "python",
   "name": "test-thesis"
  },
  "language_info": {
   "codemirror_mode": {
    "name": "ipython",
    "version": 3
   },
   "file_extension": ".py",
   "mimetype": "text/x-python",
   "name": "python",
   "nbconvert_exporter": "python",
   "pygments_lexer": "ipython3",
   "version": "3.9.1"
  }
 },
 "nbformat": 4,
 "nbformat_minor": 1
}
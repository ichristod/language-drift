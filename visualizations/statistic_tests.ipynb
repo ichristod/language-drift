{
 "cells": [
  {
   "cell_type": "code",
   "execution_count": 12,
   "outputs": [
    {
     "name": "stdout",
     "output_type": "stream",
     "text": [
      "   data_set_id w2vec_algorithm  pretrained      mapping  dim  window_size  \\\n",
      "0     en_4.0.0            sgns       glove  incremental  100           10   \n",
      "1     de_4.0.0            sgns      dewiki  incremental  100           10   \n",
      "2     de_4.0.0            cbow        None         twec  100           10   \n",
      "3    lat_4.0.0            cbow  latconll17   procrustes  100           10   \n",
      "4     en_4.0.0            cbow        None  incremental  100           10   \n",
      "..         ...             ...         ...          ...  ...          ...   \n",
      "63    en_4.0.0            cbow        None   procrustes  100           10   \n",
      "64    en_4.0.0            sgns        None  incremental  100           10   \n",
      "65   lat_4.0.0            cbow        None   procrustes  100           10   \n",
      "66   lat_4.0.0            cbow        None   procrustes  100           10   \n",
      "67    de_4.0.0            cbow      dewiki  incremental  100           10   \n",
      "\n",
      "      t  f1_ln  accuracy_ln  recall_ln  precision_ln language  f1_cd  \\\n",
      "0   1.0  0.333     0.459459      0.312         0.357       en    NaN   \n",
      "1   1.0  0.571     0.687500      0.588         0.556       de    NaN   \n",
      "2   1.0    NaN          NaN        NaN           NaN       de  0.214   \n",
      "3   1.0  0.558     0.525000      0.462         0.706      lat    NaN   \n",
      "4   1.0    NaN          NaN        NaN           NaN       en  0.516   \n",
      "..  ...    ...          ...        ...           ...      ...    ...   \n",
      "63  1.0  0.267     0.405405      0.250         0.286       en    NaN   \n",
      "64  1.0  0.516     0.594595      0.500         0.533       en    NaN   \n",
      "65  1.0    NaN          NaN        NaN           NaN      lat  0.462   \n",
      "66  1.0    NaN          NaN        NaN           NaN      lat  0.000   \n",
      "67  1.0  0.514     0.645833      0.529         0.500       de    NaN   \n",
      "\n",
      "    accuracy_cd  recall_cd  precision_cd  \n",
      "0           NaN        NaN           NaN  \n",
      "1           NaN        NaN           NaN  \n",
      "2      0.541667      0.176         0.273  \n",
      "3           NaN        NaN           NaN  \n",
      "4      0.594595      0.500         0.533  \n",
      "..          ...        ...           ...  \n",
      "63          NaN        NaN           NaN  \n",
      "64          NaN        NaN           NaN  \n",
      "65     0.475000      0.346         0.692  \n",
      "66     0.350000      0.000         0.000  \n",
      "67          NaN        NaN           NaN  \n",
      "\n",
      "[68 rows x 16 columns]\n"
     ]
    }
   ],
   "source": [
    "import pandas as pd\n",
    "\n",
    "df = pd.read_csv('../language_drift_results_4.0.0')\n",
    "print(df)\n"
   ],
   "metadata": {
    "collapsed": false,
    "pycharm": {
     "name": "#%%\n"
    }
   }
  },
  {
   "cell_type": "code",
   "execution_count": 13,
   "outputs": [],
   "source": [
    "pivot = pd.pivot_table(df, values = ['f1_ln','f1_cd'],index=['language','w2vec_algorithm','pretrained'], columns = 'mapping').reset_index()"
   ],
   "metadata": {
    "collapsed": false,
    "pycharm": {
     "name": "#%%\n"
    }
   }
  },
  {
   "cell_type": "code",
   "execution_count": 14,
   "outputs": [
    {
     "name": "stdout",
     "output_type": "stream",
     "text": [
      "        language w2vec_algorithm  pretrained       f1_cd                    \\\n",
      "mapping                                      incremental procrustes   twec   \n",
      "0             de            cbow        None       0.523   0.357000  0.214   \n",
      "1             de            cbow      dewiki       0.560   0.286000    NaN   \n",
      "2             de            sgns        None       0.426   0.303000  0.421   \n",
      "3             de            sgns      dewiki       0.638   0.519000    NaN   \n",
      "4             en            cbow        None       0.516   0.115000  0.364   \n",
      "5             en            cbow       glove       0.627   0.604000    NaN   \n",
      "6             en            sgns        None       0.258   0.348000  0.483   \n",
      "7             en            sgns       glove       0.604   0.604000    NaN   \n",
      "8            lat            cbow        None       0.432   0.177667  0.341   \n",
      "9            lat            cbow  latconll17       0.787   0.488000    NaN   \n",
      "10           lat            sgns        None       0.278   0.571000  0.400   \n",
      "11           lat            sgns  latconll17       0.750   0.667000    NaN   \n",
      "\n",
      "              f1_ln                    \n",
      "mapping incremental procrustes   twec  \n",
      "0             0.278   0.286000  0.500  \n",
      "1             0.514   0.579000    NaN  \n",
      "2             0.421   0.375000  0.529  \n",
      "3             0.571   0.485000    NaN  \n",
      "4             0.267   0.368333  0.452  \n",
      "5             0.364   0.375000    NaN  \n",
      "6             0.516   0.323000  0.387  \n",
      "7             0.333   0.467000    NaN  \n",
      "8             0.476   0.563333  0.622  \n",
      "9             0.571   0.558000    NaN  \n",
      "10            0.513   0.524000  0.558  \n",
      "11            0.537   0.571000    NaN  \n"
     ]
    }
   ],
   "source": [
    "print(pivot)"
   ],
   "metadata": {
    "collapsed": false,
    "pycharm": {
     "name": "#%%\n"
    }
   }
  },
  {
   "cell_type": "code",
   "execution_count": 15,
   "outputs": [
    {
     "name": "stdout",
     "output_type": "stream",
     "text": [
      "MultiIndex([(       'language',            ''),\n",
      "            ('w2vec_algorithm',            ''),\n",
      "            (     'pretrained',            ''),\n",
      "            (          'f1_cd', 'incremental'),\n",
      "            (          'f1_cd',  'procrustes'),\n",
      "            (          'f1_cd',        'twec'),\n",
      "            (          'f1_ln', 'incremental'),\n",
      "            (          'f1_ln',  'procrustes'),\n",
      "            (          'f1_ln',        'twec')],\n",
      "           names=[None, 'mapping'])\n"
     ]
    }
   ],
   "source": [
    "print(pivot.columns)"
   ],
   "metadata": {
    "collapsed": false,
    "pycharm": {
     "name": "#%%\n"
    }
   }
  },
  {
   "cell_type": "code",
   "execution_count": null,
   "outputs": [],
   "source": [],
   "metadata": {
    "collapsed": false,
    "pycharm": {
     "name": "#%%\n"
    }
   }
  }
 ],
 "metadata": {
  "kernelspec": {
   "display_name": "Python 3",
   "language": "python",
   "name": "python3"
  },
  "language_info": {
   "codemirror_mode": {
    "name": "ipython",
    "version": 2
   },
   "file_extension": ".py",
   "mimetype": "text/x-python",
   "name": "python",
   "nbconvert_exporter": "python",
   "pygments_lexer": "ipython2",
   "version": "2.7.6"
  }
 },
 "nbformat": 4,
 "nbformat_minor": 0
}
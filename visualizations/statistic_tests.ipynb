{
 "cells": [
  {
   "cell_type": "code",
   "execution_count": 2,
   "metadata": {
    "pycharm": {
     "name": "#%%\n"
    }
   },
   "outputs": [
    {
     "name": "stdout",
     "output_type": "stream",
     "text": [
      "  w2vec_algorithm pretrained      mapping  accuracy_ln language  accuracy_cd\n",
      "0            sgns       None  incremental     0.575000      lat          NaN\n",
      "1            cbow      glove  incremental     0.540541       en          NaN\n",
      "2            sgns       None   procrustes     0.525000      lat          NaN\n",
      "3            cbow       None         twec     0.625000      lat          NaN\n",
      "4            sgns       None         twec     0.513514       en          NaN\n"
     ]
    }
   ],
   "source": [
    "import glob\n",
    "import matplotlib.pyplot as plt\n",
    "import numpy as np\n",
    "import pandas as pd\n",
    "import seaborn as sns\n",
    "\n",
    "\n",
    "metrics = ['f1_cd','f1_ln']\n",
    "mappings = ['incremental','procrustes','twec']\n",
    "w2vec_algorithms = ['cbow','sgns','lda2vec']\n",
    "embeddings = ['pretrained','None']\n",
    "results_path = './output/**/**/results'\n",
    "\n",
    "\n",
    "\n",
    "results_df = pd.DataFrame()\n",
    "\n",
    "# retrieve results from pickle files\n",
    "path = '../output/**/**/results'\n",
    "text_files = set(glob.glob(path + \"/**/*.pkl\", recursive=True))\n",
    "for file in text_files:\n",
    "    results_df = pd.concat([results_df, pd.read_pickle(file)], ignore_index=True, axis=0)\n",
    "\n",
    "# save to csv\n",
    "results_df.to_csv('../language_drift_results', index=False)\n",
    "\n",
    "results_df = pd.read_csv('../language_drift_results')\n",
    "\n",
    "# remove unnecessary columns\n",
    "results_df = results_df.drop(['precision_cd','precision_ln','f1_cd','f1_ln',\n",
    "          'recall_cd','recall_ln','data_set_id','dim','window_size','t'],axis=1)\n",
    "\n",
    "print(results_df.head())"
   ]
  },
  {
   "cell_type": "code",
   "execution_count": 4,
   "metadata": {},
   "outputs": [
    {
     "name": "stdout",
     "output_type": "stream",
     "text": [
      "model_df_1:      language w2vec_algorithm      mapping  pretrained       metric  \\\n",
      "0        lat            sgns  incremental        None  accuracy_ln   \n",
      "1         en            cbow  incremental       glove  accuracy_ln   \n",
      "2        lat            sgns   procrustes        None  accuracy_ln   \n",
      "3        lat            cbow         twec        None  accuracy_ln   \n",
      "4         en            sgns         twec        None  accuracy_ln   \n",
      "..       ...             ...          ...         ...          ...   \n",
      "157      lat            sgns   procrustes        None  accuracy_cd   \n",
      "161       en            cbow  incremental        None  accuracy_cd   \n",
      "163      swe            cbow  incremental        None  accuracy_cd   \n",
      "166       de            sgns         twec        None  accuracy_cd   \n",
      "167      lat            sgns  incremental  latconll17  accuracy_cd   \n",
      "\n",
      "     accuracy_score  \n",
      "0          0.575000  \n",
      "1          0.540541  \n",
      "2          0.525000  \n",
      "3          0.625000  \n",
      "4          0.513514  \n",
      "..              ...  \n",
      "157        0.550000  \n",
      "161        0.513514  \n",
      "163        0.225806  \n",
      "166        0.479167  \n",
      "167        0.650000  \n",
      "\n",
      "[84 rows x 6 columns]\n",
      "model_df_2:      language w2vec_algorithm      mapping  pretrained       metric  \\\n",
      "0        lat            sgns  incremental        None  accuracy_ln   \n",
      "1         en            cbow  incremental       glove  accuracy_ln   \n",
      "2        lat            sgns   procrustes        None  accuracy_ln   \n",
      "3        lat            cbow         twec        None  accuracy_ln   \n",
      "4         en            sgns         twec        None  accuracy_ln   \n",
      "..       ...             ...          ...         ...          ...   \n",
      "157      lat            sgns   procrustes        None  accuracy_cd   \n",
      "161       en            cbow  incremental        None  accuracy_cd   \n",
      "163      swe            cbow  incremental        None  accuracy_cd   \n",
      "166       de            sgns         twec        None  accuracy_cd   \n",
      "167      lat            sgns  incremental  latconll17  accuracy_cd   \n",
      "\n",
      "     accuracy_score  \n",
      "0          0.575000  \n",
      "1          0.540541  \n",
      "2          0.525000  \n",
      "3          0.625000  \n",
      "4          0.513514  \n",
      "..              ...  \n",
      "157        0.550000  \n",
      "161        0.513514  \n",
      "163        0.225806  \n",
      "166        0.479167  \n",
      "167        0.650000  \n",
      "\n",
      "[84 rows x 6 columns]\n",
      "    language w2vec_algorithm      mapping  pretrained       metric  \\\n",
      "0        lat            sgns  incremental        None  accuracy_ln   \n",
      "1         en            cbow  incremental       glove  accuracy_ln   \n",
      "2        lat            sgns   procrustes        None  accuracy_ln   \n",
      "3        lat            cbow         twec        None  accuracy_ln   \n",
      "4         en            sgns         twec        None  accuracy_ln   \n",
      "..       ...             ...          ...         ...          ...   \n",
      "157      lat            sgns   procrustes        None  accuracy_cd   \n",
      "161       en            cbow  incremental        None  accuracy_cd   \n",
      "163      swe            cbow  incremental        None  accuracy_cd   \n",
      "166       de            sgns         twec        None  accuracy_cd   \n",
      "167      lat            sgns  incremental  latconll17  accuracy_cd   \n",
      "\n",
      "     accuracy_score  \n",
      "0          0.575000  \n",
      "1          0.540541  \n",
      "2          0.525000  \n",
      "3          0.625000  \n",
      "4          0.513514  \n",
      "..              ...  \n",
      "157        0.550000  \n",
      "161        0.513514  \n",
      "163        0.225806  \n",
      "166        0.479167  \n",
      "167        0.650000  \n",
      "\n",
      "[84 rows x 6 columns]\n"
     ]
    }
   ],
   "source": [
    "# deep copy\n",
    "model_df = results_df.copy(deep=True)\n",
    "\n",
    "# remove word2vec \"pretrained\" executions \n",
    "# since lda2vec does not contain exections with pretrained\n",
    "#model_df = model_df.drop(model_df[((model_df['pretrained'] != 'None') )].index)\n",
    "                                         \n",
    "# remove unnecessary columns\n",
    "#model_df = model_df.drop(['pretrained'],axis=1)\n",
    "\n",
    "# 'f1_cd','f1_ln' columns to row info into the newly created metric column\n",
    "model_df = model_df.melt(id_vars=[\"language\", \"w2vec_algorithm\",\"mapping\",\"pretrained\"], var_name=\"metric\", value_name=\"accuracy_score\")\n",
    "\n",
    "# remove rows with Nan values at f1_scores \n",
    "# it stands for the execution of e.g 'f1_cd' where 'f1_ln' was Nan \n",
    "model_df = model_df[model_df['accuracy_score'].notna()]\n",
    "\n",
    "print(\"model_df_1: \",model_df)\n",
    "\n",
    "# transform cbow/sgns to word2vec\n",
    "#model_df[\"w2vec_algorithm\"] = np.where(model_df[\"w2vec_algorithm\"] == \"lda2vec\", 'lda2vec', 'word2vec')\n",
    "\n",
    "print(\"model_df_2: \",model_df)\n",
    "\n",
    "\n",
    "\n",
    "print(model_df)\n",
    "# save to csv\n",
    "model_df.to_csv('../language_drift_results', index=False)"
   ]
  },
  {
   "cell_type": "markdown",
   "metadata": {
    "pycharm": {
     "name": "#%% md\n"
    }
   },
   "source": [
    "## Research Questions\n",
    "### 1. Which vectors' alignment method performs better?\n",
    "\n",
    "### Null Hypothesis: \n",
    "Αll mapping methods we investigate(‘procrustes’, ‘incremental’, ‘twec’) perform equally across different executions on the same datasets and parameters.\n"
   ]
  },
  {
   "cell_type": "code",
   "execution_count": 73,
   "metadata": {
    "pycharm": {
     "name": "#%%\n"
    }
   },
   "outputs": [
    {
     "name": "stdout",
     "output_type": "stream",
     "text": [
      "language           48\n",
      "w2vec_algorithm    48\n",
      "mapping            48\n",
      "accuracy_score     48\n",
      "dtype: int64 \n",
      "\n",
      "  language w2vec_algorithm      mapping  accuracy_score\n",
      "0      lat            cbow         twec        0.575000\n",
      "1      lat            sgns  incremental        0.275000\n",
      "2       en            sgns   procrustes        0.486486\n",
      "4       de            cbow  incremental        0.354167\n",
      "5       en            cbow   procrustes        0.378378\n"
     ]
    }
   ],
   "source": [
    "# deep copy\n",
    "mapping_df = results_df.copy(deep=True)\n",
    "\n",
    "# remove \"lda2vec\":     there are no execution with all alignment methods, only procrustes\n",
    "# remove \"pretrained\": there are no executions with pretrained embeddings and \"TWEC\" method\n",
    "mapping_df = mapping_df.drop(mapping_df[((mapping_df['pretrained'] != 'None') \n",
    "                                         | (mapping_df['w2vec_algorithm'] == 'lda2vec'))].index)\n",
    "                                         \n",
    "# remove pretrained column\n",
    "mapping_df = mapping_df.drop(['pretrained'],axis=1)\n",
    "\n",
    "mapping_df = mapping_df.melt(id_vars=[\"language\", \"w2vec_algorithm\",\"mapping\"], \n",
    "        var_name=\"metric\", \n",
    "        value_name=\"accuracy_score\")\n",
    "\n",
    "\n",
    "# remove rows with Nan values at f1_scores \n",
    "mapping_df = mapping_df[mapping_df['accuracy_score'].notna()]\n",
    "\n",
    "# remove unnecessary columns\n",
    "mapping_df = mapping_df.drop('metric',axis=1)\n",
    "\n",
    "print(mapping_df.count(),\"\\n\")\n",
    "print(mapping_df.head())"
   ]
  },
  {
   "cell_type": "markdown",
   "metadata": {
    "pycharm": {
     "name": "#%% md\n"
    }
   },
   "source": [
    "### 1.1 Shapiro-Wilk Test (checks normality of distribution)"
   ]
  },
  {
   "cell_type": "code",
   "execution_count": 75,
   "metadata": {
    "pycharm": {
     "name": "#%%\n"
    }
   },
   "outputs": [
    {
     "name": "stdout",
     "output_type": "stream",
     "text": [
      "Shapiro-Wilk test for normal distribution: \n",
      "\n",
      "incremental\n",
      "\t has a normal distribution with pvalue = 0.7972479462623596, stat= 0.9675336480140686\n",
      "procrustes\n",
      "\t has a normal distribution with pvalue = 0.7031615972518921, stat= 0.9622721672058105\n",
      "twec\n",
      "\t has a normal distribution with pvalue = 0.44314199686050415, stat= 0.9469621181488037\n"
     ]
    }
   ],
   "source": [
    "# Shapiro-Wilk test\n",
    "from collections import defaultdict\n",
    "from scipy import stats\n",
    "\n",
    "alpha =0.05\n",
    "\n",
    "print(\"Shapiro-Wilk test for normal distribution: \\n\")\n",
    "mapping_normality_dict = defaultdict()\n",
    "for mapping in mappings:\n",
    "    stat, p = stats.shapiro( mapping_df.loc[mapping_df['mapping'] == str(mapping),'accuracy_score'])\n",
    "    print(mapping)\n",
    "    if p >= alpha:\n",
    "        print(\"\\t has a normal distribution with pvalue = \"+ str(p) + \", stat=\",str(stat))\n",
    "        mapping_normality_dict[mapping] = True\n",
    "    else:\n",
    "        print(\"\\t has NOT a normal distribution with pvalue = \", p, \"stat=\",stat)\n",
    "        mapping_normality_dict[mapping] = False"
   ]
  },
  {
   "cell_type": "markdown",
   "metadata": {
    "pycharm": {
     "name": "#%% md\n"
    }
   },
   "source": [
    "### Normality Results\n",
    "**Incremental** and **twec** method can be described by the normal distribution.\n",
    "\n",
    "However since **procrustes** method does not meet the criteria of the normality <u>we have to go through with non parapetric tests.</u>"
   ]
  },
  {
   "cell_type": "markdown",
   "metadata": {
    "pycharm": {
     "name": "#%% md\n"
    }
   },
   "source": [
    "### 1.2 Kruskal Wallis Test(non parametric - normality is not a prerequisite)\n",
    "* Prerequisites (non normal distributions, more than two groups)\n",
    "* H0: Populations have same distributions\n"
   ]
  },
  {
   "cell_type": "code",
   "execution_count": 76,
   "metadata": {
    "pycharm": {
     "name": "#%%\n"
    }
   },
   "outputs": [
    {
     "name": "stdout",
     "output_type": "stream",
     "text": [
      "Kruskal Wallis H-test: \n",
      "    Same distributions (fail to reject H0) with pvalue =  0.11063424847070434 stat= 4.403051154306856\n"
     ]
    }
   ],
   "source": [
    "# Compare groups of incremental, procrustes and twec\n",
    "\n",
    "alpha =0.05\n",
    "\n",
    "print(\"Kruskal Wallis H-test: \")\n",
    "stat, p = stats.kruskal(\n",
    "    mapping_df.loc[mapping_df['mapping'] == 'incremental','accuracy_score'],\n",
    "    mapping_df.loc[mapping_df['mapping'] == 'procrustes','accuracy_score'],\n",
    "    mapping_df.loc[mapping_df['mapping'] == 'twec','accuracy_score'])\n",
    "\n",
    "if p >= alpha:\n",
    "    print(\"    Same distributions (fail to reject H0) with pvalue = \",p, \"stat=\",stat)\n",
    "else:\n",
    "    print(\"    Different distributions (reject H0) = \", p, \"stat=\",stat)\n",
    "\n"
   ]
  },
  {
   "cell_type": "markdown",
   "metadata": {
    "pycharm": {
     "name": "#%%\n"
    }
   },
   "source": [
    "### 1.3 Wilcoxon Signed-Rank Test (non parametric - normality is not a prerequisite)\n",
    "* Prerequisites (non normal distributions, paired samples, two populations)\n",
    "* Samples are **paired** since all variables except the under investigation variable are shared among the different populations\n",
    "* H0: Populations have same distributions\n"
   ]
  },
  {
   "cell_type": "code",
   "execution_count": 77,
   "metadata": {
    "pycharm": {
     "name": "#%%\n"
    }
   },
   "outputs": [
    {
     "name": "stdout",
     "output_type": "stream",
     "text": [
      "Wilcoxon Signed-Rank H-test: \n",
      "\n",
      " incremental-procrustes\n",
      "    Null hypothesis was ACCEPTED with pvalue =  0.274444580078125 stat= 46.0\n",
      "\n",
      " incremental-twec\n",
      "    Null hypothesis was ACCEPTED with pvalue =  0.05767822265625 stat= 31.0\n",
      "\n",
      " procrustes-twec\n",
      "    Null hypothesis was ACCEPTED with pvalue =  0.19281005859375 stat= 42.0\n"
     ]
    }
   ],
   "source": [
    "# Wilcoxon Signed-Rank Test (non parametric - normality is not a prerequisite)\n",
    "# Compare groups of incremental, procrustes and twec\n",
    "\n",
    "alpha =0.05\n",
    "\n",
    "print(\"Wilcoxon Signed-Rank H-test: \\n\\n incremental-procrustes\")\n",
    "stat, p = stats.wilcoxon(\n",
    "    mapping_df.loc[mapping_df['mapping'] == 'incremental','accuracy_score'],\n",
    "    mapping_df.loc[mapping_df['mapping'] == 'procrustes','accuracy_score'])\n",
    "\n",
    "if p < alpha:\n",
    "    print(\"    Null Hypothesis REJECTED with pvalue = \", p, \"stat=\",stat)\n",
    "else:\n",
    "    print(\"    Null hypothesis was ACCEPTED with pvalue = \",p, \"stat=\",stat)\n",
    "    \n",
    "print(\"\\n incremental-twec\")\n",
    "stat, p = stats.wilcoxon(\n",
    "    mapping_df.loc[mapping_df['mapping'] == 'incremental','accuracy_score'],\n",
    "    mapping_df.loc[mapping_df['mapping'] == 'twec','accuracy_score'])\n",
    "\n",
    "if p < alpha:\n",
    "    print(\"    Null Hypothesis REJECTED with pvalue = \", p, \"stat=\",stat)\n",
    "else:\n",
    "    print(\"    Null hypothesis was ACCEPTED with pvalue = \",p, \"stat=\",stat)\n",
    "\n",
    "print(\"\\n procrustes-twec\")\n",
    "stat, p = stats.wilcoxon(\n",
    "    mapping_df.loc[mapping_df['mapping'] == 'procrustes','accuracy_score'],\n",
    "    mapping_df.loc[mapping_df['mapping'] == 'twec','accuracy_score'])\n",
    "\n",
    "if p < alpha:\n",
    "    print(\"    Null Hypothesis REJECTED with pvalue = \", p, \"stat=\",stat)\n",
    "else:\n",
    "    print(\"    Null hypothesis was ACCEPTED with pvalue = \",p, \"stat=\",stat)"
   ]
  },
  {
   "cell_type": "markdown",
   "metadata": {
    "pycharm": {
     "name": "#%% md\n"
    }
   },
   "source": [
    "### 1.4 Results\n",
    "After the execution on the following combinations:\n",
    "- **cbow-sgns** (algorithm)\n",
    "- **incremental-procrustes-twec** (alignment)\n",
    "- **en-de-swe-lat** (languages)\n",
    "- **cd-ln** (metrics of cosine distance and local_neighborhood measure)\n",
    "\n",
    "On the following **Word2Vec** parameter setting:\n",
    "- **embeddings_dimension = 100**\n",
    "- **window_size = 10**\n",
    "- **min_count = 3** (number of occurences)\n",
    "- **s = 0.001** (threshold for configuring which higher-frequency words are randomly downsampled)\n",
    "- **k = 5** number of negative samples parameter \n",
    "- **epochs = 5**\n",
    "\n",
    "We investigated the f1_scores of **48** executions (algorithms * alignment * languages * metrics).\n",
    "\n",
    "The result was that **there are no significate differences between the embeddings' alignment methods we used**."
   ]
  },
  {
   "cell_type": "code",
   "execution_count": 78,
   "metadata": {
    "pycharm": {
     "name": "#%%\n"
    }
   },
   "outputs": [
    {
     "data": {
      "image/png": "[encoded data removed]",
      "text/plain": [
       "<Figure size 864x576 with 1 Axes>"
      ]
     },
     "metadata": {},
     "output_type": "display_data"
    }
   ],
   "source": [
    "sns.set()\n",
    "fig, ax = plt.subplots(figsize=(12,8))\n",
    "sns.boxplot( saturation=1, palette='BuGn',ax=ax, whis=[5, 95],x=mapping_df['mapping'],y=mapping_df['accuracy_score'])\n",
    "# specify axis labels\n",
    "plt.xlabel('', size=14, family='monospace')\n",
    "plt.ylabel('', size=14, family='monospace')\n",
    "plt.title('F1 Scores per Alignment Method')\n",
    "plt.show()"
   ]
  },
  {
   "cell_type": "markdown",
   "metadata": {
    "pycharm": {
     "name": "#%% md\n"
    }
   },
   "source": [
    "## Research Questions\n",
    "### 2. Do pretrained embeddings improve performance?\n",
    "\n",
    "### Null Hypothesis: \n",
    "Executions with pretrained embeddings perform equally with those that haven't been prior initialized.\n",
    "\n"
   ]
  },
  {
   "cell_type": "code",
   "execution_count": 79,
   "metadata": {
    "pycharm": {
     "name": "#%%\n"
    }
   },
   "outputs": [
    {
     "name": "stdout",
     "output_type": "stream",
     "text": [
      "language           64\n",
      "w2vec_algorithm    64\n",
      "pretrained         64\n",
      "accuracy_score     64\n",
      "dtype: int64 \n",
      "\n",
      "  language w2vec_algorithm  pretrained  accuracy_score\n",
      "0      lat            sgns        None        0.275000\n",
      "1       en            sgns        None        0.486486\n",
      "3       de            cbow        None        0.354167\n",
      "4       en            cbow       glove        0.432432\n",
      "6      swe            cbow  sweconll17        0.677419\n"
     ]
    }
   ],
   "source": [
    "# deep copy\n",
    "pretrained_df = results_df.copy(deep=True)\n",
    "# remove executions without pretrained embeddings\n",
    "pretrained_df = pretrained_df.drop(pretrained_df[((pretrained_df['mapping'] == 'twec') \n",
    "                                         | (pretrained_df['w2vec_algorithm'] == 'lda2vec'))].index)\n",
    "                                         \n",
    "# remove unnecessary columns\n",
    "pretrained_df = pretrained_df.drop(['mapping'],axis=1)\n",
    "\n",
    "pretrained_df = pretrained_df.melt(id_vars=[\"language\", \"w2vec_algorithm\",\"pretrained\"], \n",
    "        var_name=\"metric\", \n",
    "        value_name=\"accuracy_score\")\n",
    "\n",
    "\n",
    "# remove rows with Nan values at f1_scores \n",
    "pretrained_df = pretrained_df[pretrained_df['accuracy_score'].notna()]\n",
    "\n",
    "# remove unnecessary columns\n",
    "pretrained_df = pretrained_df.drop('metric',axis=1)\n",
    "\n",
    "print(pretrained_df.count(),\"\\n\")\n",
    "print(pretrained_df.head())"
   ]
  },
  {
   "cell_type": "markdown",
   "metadata": {
    "pycharm": {
     "name": "#%% md\n"
    }
   },
   "source": [
    "### 2.1 Shapiro-Wilk Test (checks normality of distribution)"
   ]
  },
  {
   "cell_type": "code",
   "execution_count": 80,
   "metadata": {
    "pycharm": {
     "name": "#%%\n"
    }
   },
   "outputs": [
    {
     "name": "stdout",
     "output_type": "stream",
     "text": [
      "Shapiro-Wilk test for normal distribution: \n",
      "\n",
      "pretrained\n",
      "\t has a normal distribution with pvalue = 0.7074304223060608, stat= 0.9769535064697266\n",
      "None\n",
      "\t has a normal distribution with pvalue = 0.5168358087539673, stat= 0.9706252217292786\n"
     ]
    }
   ],
   "source": [
    "# Shapiro-Wilk test\n",
    "from collections import defaultdict\n",
    "from scipy import stats\n",
    "\n",
    "alpha =0.05\n",
    "\n",
    "print(\"Shapiro-Wilk test for normal distribution: \\n\")\n",
    "embedding_normality_dict = defaultdict()\n",
    "for embedding in embeddings:\n",
    "    if embedding == 'None':\n",
    "        stat, p = stats.shapiro( pretrained_df.loc[pretrained_df['pretrained'] == 'None','accuracy_score'])\n",
    "    else:\n",
    "        stat, p = stats.shapiro( pretrained_df.loc[pretrained_df['pretrained'] != 'None','accuracy_score'])\n",
    "    print(embedding)\n",
    "    if p >= alpha:\n",
    "        print(\"\\t has a normal distribution with pvalue = \"+ str(p) + \", stat=\",str(stat))\n",
    "        embedding_normality_dict[embedding] = True\n",
    "    else:\n",
    "        print(\"\\t has NOT a normal distribution with pvalue = \", p, \"stat=\",stat)\n",
    "        embedding_normality_dict[embedding] = False\n",
    "        "
   ]
  },
  {
   "cell_type": "markdown",
   "metadata": {
    "pycharm": {
     "name": "#%% md\n"
    }
   },
   "source": [
    "### Normality Results\n",
    "Executions with usage of **Pretrained** embeddings and **Non Pretained** embeddings can be described by the normal distribution.\n",
    "\n",
    "The next step is to conduct a **paired-T test**.</u>"
   ]
  },
  {
   "cell_type": "markdown",
   "metadata": {
    "pycharm": {
     "name": "#%% md\n"
    }
   },
   "source": [
    "### 2.2 Paired T-Test (parametric - normality is  a prerequisite)\n",
    "- Prerequisites:\n",
    "\n",
    "    - normal distribution of dependent variable\n",
    "    - continuous dependent variable\n",
    "    - independent observations \n",
    "    - same subject for each group \n",
    "    - dependent variable does not contain outliers. \n",
    "  \n",
    "- H0: means of the populations are equal to zero\n",
    "* H1: p1 is not equal to p2  || p1 – p2 is not equal to zero.\n",
    "\n",
    "**Samples are paired** since all variables except the under investigation variable are shared among the different populations\n",
    "\n"
   ]
  },
  {
   "cell_type": "code",
   "execution_count": 81,
   "metadata": {
    "pycharm": {
     "name": "#%%\n"
    }
   },
   "outputs": [
    {
     "name": "stdout",
     "output_type": "stream",
     "text": [
      "    language w2vec_algorithm  pretrained  accuracy_score\n",
      "52       swe            cbow        None        0.225806\n",
      "105      swe            cbow  sweconll17        0.354839\n"
     ]
    },
    {
     "name": "stderr",
     "output_type": "stream",
     "text": [
      "/tmp/ipykernel_35762/3832175542.py:3: DeprecationWarning: the `interpolation=` argument to percentile was renamed to `method=`, which has additional options.\n",
      "Users of the modes 'nearest', 'lower', 'higher', or 'midpoint' are encouraged to review the method they. (Deprecated NumPy 1.22)\n",
      "  Q1 = np.percentile(pretrained_df.loc[(pretrained_df['pretrained'] != 'None'), ['accuracy_score']],\n",
      "/tmp/ipykernel_35762/3832175542.py:6: DeprecationWarning: the `interpolation=` argument to percentile was renamed to `method=`, which has additional options.\n",
      "Users of the modes 'nearest', 'lower', 'higher', or 'midpoint' are encouraged to review the method they. (Deprecated NumPy 1.22)\n",
      "  Q3 = np.percentile(pretrained_df.loc[(pretrained_df['pretrained'] != 'None'), ['accuracy_score']],\n"
     ]
    }
   ],
   "source": [
    "# Ensure we don't have any outliers\n",
    "# IQR\n",
    "Q1 = np.percentile(pretrained_df.loc[(pretrained_df['pretrained'] != 'None'), ['accuracy_score']], \n",
    "                   25,interpolation = 'midpoint')\n",
    " \n",
    "Q3 = np.percentile(pretrained_df.loc[(pretrained_df['pretrained'] != 'None'), ['accuracy_score']], \n",
    "           75,interpolation = 'midpoint')\n",
    "\n",
    "IQR = Q3 - Q1\n",
    "\n",
    "\n",
    "# Above Upper bound\n",
    "upper = pretrained_df['accuracy_score'] >= (Q3+1.5*IQR)\n",
    "# Below Lower bound\n",
    "lower = pretrained_df['accuracy_score'] <= (Q1-1.5*IQR)\n",
    "\n",
    "if (upper == True).any():\n",
    "    upper_outliers = lower.loc[lower == True].index.tolist()\n",
    "    print(\"upper_outliers:\",upper_outliers)\n",
    "    #print(np.where(upper))\n",
    "elif (lower == True).any():\n",
    "    lower_outliers = lower.loc[lower == True].index.tolist()\n",
    "    print(\"lower_outliers:\",lower_outliers)\n",
    "    #print(np.where(lower))\n",
    "\n",
    "print(pretrained_df[pretrained_df.index.isin(lower_outliers)])\n",
    "\n",
    "pretrained_df = pretrained_df.drop(pretrained_df[((pretrained_df['language'] == 'swe'))].index)\n"
   ]
  },
  {
   "cell_type": "code",
   "execution_count": 82,
   "metadata": {
    "pycharm": {
     "name": "#%%\n"
    }
   },
   "outputs": [
    {
     "name": "stdout",
     "output_type": "stream",
     "text": [
      "Paired T-Test H-test: \n",
      "\n",
      " pretrained - NOT pretrained\n",
      "    Null Hypothesis REJECTED with pvalue =  0.014146191893117997 stat= 2.655073402500333\n"
     ]
    }
   ],
   "source": [
    "# Paired T-Test (parametric - normality is not a prerequisite)\n",
    "# Compare groups of incremental, procrustes and twec\n",
    "\n",
    "alpha =0.05\n",
    "\n",
    "print(\"Paired T-Test H-test: \\n\\n pretrained - NOT pretrained\")\n",
    "stat, p = stats.ttest_rel(\n",
    "    pretrained_df.loc[pretrained_df['pretrained'] != 'None','accuracy_score'],\n",
    "    pretrained_df.loc[pretrained_df['pretrained'] == 'None','accuracy_score'])\n",
    "\n",
    "if p < alpha:\n",
    "    print(\"    Null Hypothesis REJECTED with pvalue = \", p, \"stat=\",stat)\n",
    "else:\n",
    "    print(\"    Null hypothesis was ACCEPTED with pvalue = \",p, \"stat=\",stat)"
   ]
  },
  {
   "cell_type": "code",
   "execution_count": 83,
   "metadata": {
    "pycharm": {
     "name": "#%%\n"
    }
   },
   "outputs": [
    {
     "name": "stdout",
     "output_type": "stream",
     "text": [
      "Pretrained embeddings perform better with an increase of  15%\n"
     ]
    },
    {
     "name": "stderr",
     "output_type": "stream",
     "text": [
      "/tmp/ipykernel_35762/1886954407.py:2: FutureWarning: Dropping of nuisance columns in DataFrame reductions (with 'numeric_only=None') is deprecated; in a future version this will raise TypeError.  Select only valid columns before calling the reduction.\n",
      "  none_mean = pretrained_df.loc[pretrained_df['pretrained'] == 'None'].mean()[0]\n",
      "/tmp/ipykernel_35762/1886954407.py:3: FutureWarning: Dropping of nuisance columns in DataFrame reductions (with 'numeric_only=None') is deprecated; in a future version this will raise TypeError.  Select only valid columns before calling the reduction.\n",
      "  pretrained_mean = pretrained_df.loc[pretrained_df['pretrained'] != 'None'].mean()[0]\n"
     ]
    }
   ],
   "source": [
    "# check percentage of increase\n",
    "none_mean = pretrained_df.loc[pretrained_df['pretrained'] == 'None'].mean()[0]\n",
    "pretrained_mean = pretrained_df.loc[pretrained_df['pretrained'] != 'None'].mean()[0]\n",
    "\n",
    "increase_percentage = str(round(((pretrained_mean-none_mean)/none_mean)*100))\n",
    "print(\"Pretrained embeddings perform better with an increase of \", increase_percentage + '%')\n",
    "\n"
   ]
  },
  {
   "cell_type": "markdown",
   "metadata": {
    "pycharm": {
     "name": "#%% md\n"
    }
   },
   "source": [
    "### 2.3 Results\n",
    "After the execution on the following combinations:\n",
    "- **cbow-sgns** (algorithm)\n",
    "- **incremental-procrustes** (alignment)\n",
    "- **en-de-lat** (languages)\n",
    "- **cd-ln** (metrics of cosine distance and local_neighborhood measure)\n",
    "- **pretrained - not pretrained** (usage of pretrained embeddings)\n",
    "\n",
    "Half of the models' vector weights were prior initialized with pretrained embeddings e.g. glove.\n",
    "\n",
    "On the following **Word2Vec** parameter setting:\n",
    "- **embeddings_dimension = 100**\n",
    "- **window_size = 10**\n",
    "- **min_count = 3** (number of occurences)\n",
    "- **s = 0.001** (threshold for configuring which higher-frequency words are randomly downsampled)\n",
    "- **k = 5** number of negative samples parameter \n",
    "- **epochs = 5**\n",
    "\n",
    "\n",
    "We investigated the f1_scores of **48 executions** (algorithms * alignmen * languages * metrics).\n",
    "\n",
    "The result was that **there are significate differences** between the model which were prior initialized and those hadn't."
   ]
  },
  {
   "cell_type": "code",
   "execution_count": 85,
   "metadata": {
    "pycharm": {
     "name": "#%%\n"
    }
   },
   "outputs": [
    {
     "data": {
      "image/png": "[encoded data removed]",
      "text/plain": [
       "<Figure size 864x576 with 1 Axes>"
      ]
     },
     "metadata": {},
     "output_type": "display_data"
    }
   ],
   "source": [
    "sns.set()\n",
    "fig, ax = plt.subplots(figsize=(12,8))\n",
    "\n",
    "pretrained_df.loc[pretrained_df[\"pretrained\"] != \"None\", \"pretrained\"] = \"pretrained\"\n",
    "sns.boxplot( saturation=1, palette='BuGn',ax=ax, whis=[5, 95],x=pretrained_df['pretrained'],y=pretrained_df['accuracy_score'])\n",
    "# specify axis labels\n",
    "plt.xlabel('', size=14, family='monospace')\n",
    "plt.ylabel('', size=14, family='monospace')\n",
    "plt.title('F1 Scores per type of embeddings')\n",
    "plt.show()"
   ]
  },
  {
   "cell_type": "markdown",
   "metadata": {
    "pycharm": {
     "name": "#%% md\n"
    }
   },
   "source": [
    "## Research Questions\n",
    "### 3. Lda2Vec and word2vec models performs the same?\n",
    "\n",
    "### Null Hypothesis: \n",
    "Executions with lda2vec equally perform with those from a word2vec across different executions on the same datasets and parameters.\n"
   ]
  },
  {
   "cell_type": "code",
   "execution_count": 93,
   "metadata": {
    "pycharm": {
     "name": "#%%\n"
    },
    "scrolled": false
   },
   "outputs": [
    {
     "name": "stdout",
     "output_type": "stream",
     "text": [
      "model_df_1:      language w2vec_algorithm      mapping       metric  accuracy_score\n",
      "0        lat            cbow         twec  accuracy_cd        0.575000\n",
      "1        lat            sgns  incremental  accuracy_cd        0.275000\n",
      "2         en            sgns   procrustes  accuracy_cd        0.486486\n",
      "4         de            cbow  incremental  accuracy_cd        0.354167\n",
      "5        lat         lda2vec   procrustes  accuracy_cd        0.400000\n",
      "6         en            cbow   procrustes  accuracy_cd        0.378378\n",
      "9         en            cbow         twec  accuracy_cd        0.405405\n",
      "11        de            cbow   procrustes  accuracy_cd        0.583333\n",
      "12        de            sgns         twec  accuracy_cd        0.479167\n",
      "13       lat            sgns         twec  accuracy_cd        0.550000\n",
      "14       lat            cbow   procrustes  accuracy_cd        0.475000\n",
      "15       swe            sgns  incremental  accuracy_cd        0.387097\n",
      "17        en         lda2vec   procrustes  accuracy_cd        0.621622\n",
      "19        de            sgns   procrustes  accuracy_cd        0.437500\n",
      "20        de            sgns  incremental  accuracy_cd        0.354167\n",
      "22       lat            sgns   procrustes  accuracy_cd        0.550000\n",
      "25        de            cbow         twec  accuracy_cd        0.541667\n",
      "30        en            sgns         twec  accuracy_cd        0.594595\n",
      "31       swe            cbow   procrustes  accuracy_cd        0.387097\n",
      "32       lat            cbow  incremental  accuracy_cd        0.550000\n",
      "35       swe            cbow         twec  accuracy_cd        0.451613\n",
      "38        en            sgns  incremental  accuracy_cd        0.432432\n",
      "40       swe            sgns         twec  accuracy_cd        0.290323\n",
      "46       swe            cbow  incremental  accuracy_cd        0.225806\n",
      "47       swe            sgns   procrustes  accuracy_cd        0.451613\n",
      "49        en            cbow  incremental  accuracy_cd        0.513514\n",
      "55        en            cbow  incremental  accuracy_ln        0.405405\n",
      "59       swe            sgns   procrustes  accuracy_ln        0.419355\n",
      "60       lat            sgns   procrustes  accuracy_ln        0.525000\n",
      "62        de            sgns   procrustes  accuracy_ln        0.604167\n",
      "68       lat            sgns  incremental  accuracy_ln        0.575000\n",
      "70        en            cbow         twec  accuracy_ln        0.513514\n",
      "73       lat            cbow   procrustes  accuracy_ln        0.500000\n",
      "75       swe            cbow   procrustes  accuracy_ln        0.387097\n",
      "76        en         lda2vec   procrustes  accuracy_ln        0.567568\n",
      "78        de            cbow   procrustes  accuracy_ln        0.500000\n",
      "79       lat            sgns         twec  accuracy_ln        0.475000\n",
      "80        en            sgns   procrustes  accuracy_ln        0.405405\n",
      "81        en            sgns         twec  accuracy_ln        0.513514\n",
      "85       swe            sgns  incremental  accuracy_ln        0.387097\n",
      "86        en            sgns  incremental  accuracy_ln        0.594595\n",
      "88        de            sgns  incremental  accuracy_ln        0.479167\n",
      "89       lat            cbow         twec  accuracy_ln        0.625000\n",
      "91        de            sgns         twec  accuracy_ln        0.583333\n",
      "93       swe            cbow         twec  accuracy_ln        0.483871\n",
      "94        de            cbow         twec  accuracy_ln        0.541667\n",
      "95        de            cbow  incremental  accuracy_ln        0.437500\n",
      "96        en            cbow   procrustes  accuracy_ln        0.351351\n",
      "97       swe            cbow  incremental  accuracy_ln        0.387097\n",
      "100      swe            sgns         twec  accuracy_ln        0.387097\n",
      "102      lat            cbow  incremental  accuracy_ln        0.525000\n",
      "103      lat         lda2vec   procrustes  accuracy_ln        0.550000\n",
      "model_df_2:      language w2vec_algorithm      mapping       metric  accuracy_score\n",
      "0        lat            cbow         twec  accuracy_cd        0.575000\n",
      "1        lat            sgns  incremental  accuracy_cd        0.275000\n",
      "2         en            sgns   procrustes  accuracy_cd        0.486486\n",
      "4         de            cbow  incremental  accuracy_cd        0.354167\n",
      "5        lat         lda2vec   procrustes  accuracy_cd        0.400000\n",
      "6         en            cbow   procrustes  accuracy_cd        0.378378\n",
      "9         en            cbow         twec  accuracy_cd        0.405405\n",
      "11        de            cbow   procrustes  accuracy_cd        0.583333\n",
      "12        de            sgns         twec  accuracy_cd        0.479167\n",
      "13       lat            sgns         twec  accuracy_cd        0.550000\n",
      "14       lat            cbow   procrustes  accuracy_cd        0.475000\n",
      "15       swe            sgns  incremental  accuracy_cd        0.387097\n",
      "17        en         lda2vec   procrustes  accuracy_cd        0.621622\n",
      "19        de            sgns   procrustes  accuracy_cd        0.437500\n",
      "20        de            sgns  incremental  accuracy_cd        0.354167\n",
      "22       lat            sgns   procrustes  accuracy_cd        0.550000\n",
      "25        de            cbow         twec  accuracy_cd        0.541667\n",
      "30        en            sgns         twec  accuracy_cd        0.594595\n",
      "31       swe            cbow   procrustes  accuracy_cd        0.387097\n",
      "32       lat            cbow  incremental  accuracy_cd        0.550000\n",
      "35       swe            cbow         twec  accuracy_cd        0.451613\n",
      "38        en            sgns  incremental  accuracy_cd        0.432432\n",
      "40       swe            sgns         twec  accuracy_cd        0.290323\n",
      "46       swe            cbow  incremental  accuracy_cd        0.225806\n",
      "47       swe            sgns   procrustes  accuracy_cd        0.451613\n",
      "49        en            cbow  incremental  accuracy_cd        0.513514\n",
      "55        en            cbow  incremental  accuracy_ln        0.405405\n",
      "59       swe            sgns   procrustes  accuracy_ln        0.419355\n",
      "60       lat            sgns   procrustes  accuracy_ln        0.525000\n",
      "62        de            sgns   procrustes  accuracy_ln        0.604167\n",
      "68       lat            sgns  incremental  accuracy_ln        0.575000\n",
      "70        en            cbow         twec  accuracy_ln        0.513514\n",
      "73       lat            cbow   procrustes  accuracy_ln        0.500000\n",
      "75       swe            cbow   procrustes  accuracy_ln        0.387097\n",
      "76        en         lda2vec   procrustes  accuracy_ln        0.567568\n",
      "78        de            cbow   procrustes  accuracy_ln        0.500000\n",
      "79       lat            sgns         twec  accuracy_ln        0.475000\n",
      "80        en            sgns   procrustes  accuracy_ln        0.405405\n",
      "81        en            sgns         twec  accuracy_ln        0.513514\n",
      "85       swe            sgns  incremental  accuracy_ln        0.387097\n",
      "86        en            sgns  incremental  accuracy_ln        0.594595\n",
      "88        de            sgns  incremental  accuracy_ln        0.479167\n",
      "89       lat            cbow         twec  accuracy_ln        0.625000\n",
      "91        de            sgns         twec  accuracy_ln        0.583333\n",
      "93       swe            cbow         twec  accuracy_ln        0.483871\n",
      "94        de            cbow         twec  accuracy_ln        0.541667\n",
      "95        de            cbow  incremental  accuracy_ln        0.437500\n",
      "96        en            cbow   procrustes  accuracy_ln        0.351351\n",
      "97       swe            cbow  incremental  accuracy_ln        0.387097\n",
      "100      swe            sgns         twec  accuracy_ln        0.387097\n",
      "102      lat            cbow  incremental  accuracy_ln        0.525000\n",
      "103      lat         lda2vec   procrustes  accuracy_ln        0.550000\n",
      "model_df_3:      language w2vec_algorithm     mapping       metric  accuracy_score\n",
      "2         en            sgns  procrustes  accuracy_cd        0.486486\n",
      "5        lat         lda2vec  procrustes  accuracy_cd        0.400000\n",
      "6         en            cbow  procrustes  accuracy_cd        0.378378\n",
      "11        de            cbow  procrustes  accuracy_cd        0.583333\n",
      "14       lat            cbow  procrustes  accuracy_cd        0.475000\n",
      "17        en         lda2vec  procrustes  accuracy_cd        0.621622\n",
      "19        de            sgns  procrustes  accuracy_cd        0.437500\n",
      "22       lat            sgns  procrustes  accuracy_cd        0.550000\n",
      "31       swe            cbow  procrustes  accuracy_cd        0.387097\n",
      "47       swe            sgns  procrustes  accuracy_cd        0.451613\n",
      "59       swe            sgns  procrustes  accuracy_ln        0.419355\n",
      "60       lat            sgns  procrustes  accuracy_ln        0.525000\n",
      "62        de            sgns  procrustes  accuracy_ln        0.604167\n",
      "73       lat            cbow  procrustes  accuracy_ln        0.500000\n",
      "75       swe            cbow  procrustes  accuracy_ln        0.387097\n",
      "76        en         lda2vec  procrustes  accuracy_ln        0.567568\n",
      "78        de            cbow  procrustes  accuracy_ln        0.500000\n",
      "80        en            sgns  procrustes  accuracy_ln        0.405405\n",
      "96        en            cbow  procrustes  accuracy_ln        0.351351\n",
      "103      lat         lda2vec  procrustes  accuracy_ln        0.550000\n",
      "    language w2vec_algorithm     mapping       metric  accuracy_score\n",
      "2         en            sgns  procrustes  accuracy_cd        0.486486\n",
      "5        lat         lda2vec  procrustes  accuracy_cd        0.400000\n",
      "6         en            cbow  procrustes  accuracy_cd        0.378378\n",
      "14       lat            cbow  procrustes  accuracy_cd        0.475000\n",
      "17        en         lda2vec  procrustes  accuracy_cd        0.621622\n",
      "22       lat            sgns  procrustes  accuracy_cd        0.550000\n",
      "60       lat            sgns  procrustes  accuracy_ln        0.525000\n",
      "73       lat            cbow  procrustes  accuracy_ln        0.500000\n",
      "76        en         lda2vec  procrustes  accuracy_ln        0.567568\n",
      "80        en            sgns  procrustes  accuracy_ln        0.405405\n",
      "96        en            cbow  procrustes  accuracy_ln        0.351351\n",
      "103      lat         lda2vec  procrustes  accuracy_ln        0.550000\n"
     ]
    }
   ],
   "source": [
    "# deep copy\n",
    "model_df = results_df.copy(deep=True)\n",
    "\n",
    "# remove word2vec \"pretrained\" executions \n",
    "# since lda2vec does not contain exections with pretrained\n",
    "model_df = model_df.drop(model_df[((model_df['pretrained'] != 'None') )].index)\n",
    "                                         \n",
    "# remove unnecessary columns\n",
    "model_df = model_df.drop(['pretrained'],axis=1)\n",
    "\n",
    "# 'f1_cd','f1_ln' columns to row info into the newly created metric column\n",
    "model_df = model_df.melt(id_vars=[\"language\", \"w2vec_algorithm\",\"mapping\"], var_name=\"metric\", value_name=\"accuracy_score\")\n",
    "\n",
    "# remove rows with Nan values at f1_scores \n",
    "# it stands for the execution of e.g 'f1_cd' where 'f1_ln' was Nan \n",
    "model_df = model_df[model_df['accuracy_score'].notna()]\n",
    "\n",
    "print(\"model_df_1: \",model_df)\n",
    "\n",
    "# transform cbow/sgns to word2vec\n",
    "#model_df[\"w2vec_algorithm\"] = np.where(model_df[\"w2vec_algorithm\"] == \"lda2vec\", 'lda2vec', 'word2vec')\n",
    "\n",
    "print(\"model_df_2: \",model_df)\n",
    "\n",
    "# keep experiments with same mapping method of lda2vec and word2vec\n",
    "model_df = model_df[(model_df['mapping'] == 'procrustes') ]\n",
    "\n",
    "print(\"model_df_3: \",model_df)\n",
    "\n",
    "# keep experiments with same language\n",
    "# we have execution only from 'english' and 'latin'\n",
    "model_df = model_df[model_df['language'].isin(['en','lat'])]\n",
    "\n",
    "# remove unnecessary columns\n",
    "#model_df = model_df.drop('metric',axis=1)\n",
    "\n",
    "print(model_df)"
   ]
  },
  {
   "cell_type": "markdown",
   "metadata": {
    "pycharm": {
     "name": "#%% md\n"
    }
   },
   "source": [
    "### 3.1 Shapiro-Wilk Test (checks normality of distribution)"
   ]
  },
  {
   "cell_type": "code",
   "execution_count": 94,
   "metadata": {
    "pycharm": {
     "name": "#%%\n"
    }
   },
   "outputs": [
    {
     "name": "stdout",
     "output_type": "stream",
     "text": [
      "Shapiro-Wilk test for normal distribution: \n",
      "\n",
      "cbow\n",
      "\t has a normal distribution with pvalue = 0.38038206100463867, stat= 0.8894097805023193\n",
      "sgns\n",
      "\t has a normal distribution with pvalue = 0.6174443364143372, stat= 0.9338897466659546\n",
      "lda2vec\n",
      "\t has a normal distribution with pvalue = 0.3926840126514435, stat= 0.8920566439628601\n"
     ]
    }
   ],
   "source": [
    "# Shapiro-Wilk test\n",
    "from collections import defaultdict\n",
    "from scipy import stats\n",
    "\n",
    "alpha = 0.05\n",
    "\n",
    "print(\"Shapiro-Wilk test for normal distribution: \\n\")\n",
    "model_normality_dict = defaultdict()\n",
    "for w2vec_algorithm in w2vec_algorithms:\n",
    "    print(w2vec_algorithm)\n",
    "    stat, p = stats.shapiro( model_df.loc[model_df['w2vec_algorithm'] == w2vec_algorithm,'accuracy_score'])\n",
    "        \n",
    "    if p >= alpha:\n",
    "        print(\"\\t has a normal distribution with pvalue = \"+ str(p) + \", stat=\",str(stat))\n",
    "        model_normality_dict[mapping] = True\n",
    "    else:\n",
    "        print(\"\\t has NOT a normal distribution with pvalue = \", p, \"stat=\",stat)\n",
    "        model_normality_dict[mapping] = False"
   ]
  },
  {
   "cell_type": "markdown",
   "metadata": {
    "pycharm": {
     "name": "#%% md\n"
    }
   },
   "source": [
    "### Normality Results\n",
    "**Word2Vec** models can be described by the normal distribution.\n",
    "\n",
    "However since **Lda2Vec** method does not meet the criteria of the normality <u>we have to go through with non parapetric tests.</u>"
   ]
  },
  {
   "cell_type": "markdown",
   "metadata": {
    "pycharm": {
     "name": "#%% md\n"
    }
   },
   "source": [
    "### 3.2 Wilcoxon Signed-Rank Test (non parametric - normality is not a prerequisite)\n",
    "* Prerequisites (non normal distributions, paired samples, two populations)\n",
    "* Samples are paired since all variables except the under investigation variable are shared among the different populations\n",
    "* H0: Populations have same distributions\n"
   ]
  },
  {
   "cell_type": "code",
   "execution_count": 95,
   "metadata": {
    "pycharm": {
     "name": "#%%\n"
    }
   },
   "outputs": [
    {
     "name": "stdout",
     "output_type": "stream",
     "text": [
      "Wilcoxon Signed-Rank H-test\n",
      "lda2vec- cbow\n",
      "    Null hypothesis was ACCEPTED with pvalue =  0.07110718331090769 stat= 2.7438656496750204\n",
      "lda2vec- sgns\n",
      "    Null hypothesis was ACCEPTED with pvalue =  0.4375608279508396 stat= 0.8931986429215097\n"
     ]
    }
   ],
   "source": [
    "# Wilcoxon Signed-Rank Test (non parametric - normality is not a prerequisite)\n",
    "# Compare groups of incremental, procrustes and twec\n",
    "\n",
    "alpha =0.05\n",
    "print(\"Wilcoxon Signed-Rank H-test\")\n",
    "\n",
    "for w2vec_algorithm in w2vec_algorithms:\n",
    "    if w2vec_algorithm!='lda2vec':\n",
    "        print(\"lda2vec-\",w2vec_algorithm)\n",
    "        stat, p = stats.ttest_rel(\n",
    "            model_df.loc[model_df['w2vec_algorithm'] == 'lda2vec','accuracy_score'],\n",
    "            model_df.loc[model_df['w2vec_algorithm'] == w2vec_algorithm,'accuracy_score'])\n",
    "\n",
    "        if p < alpha:\n",
    "            print(\"    Null Hypothesis REJECTED with pvalue = \", p, \"stat=\",stat)\n",
    "        else:\n",
    "            print(\"    Null hypothesis was ACCEPTED with pvalue = \",p, \"stat=\",stat)\n",
    "    "
   ]
  },
  {
   "cell_type": "markdown",
   "metadata": {
    "pycharm": {
     "name": "#%% md\n"
    }
   },
   "source": [
    "### 3.3 Results\n",
    "After the execution on the following combinations:\n",
    "- **lda2vec-word2vec** (model)\n",
    "- **procrustes**\n",
    "- **en-lat** (languages)\n",
    "- **cd-ln** (metrics of cosine distance and local_neighborhood measure)\n",
    "\n",
    "On the following **Word2Vec** parameter setting:\n",
    "- **embeddings_dimension = 100**\n",
    "- **window_size = 10**\n",
    "- **min_count = 3** (number of occurences)\n",
    "- **s = 0.001** (threshold for configuring which higher-frequency words are randomly downsampled)\n",
    "- **k = 5** number of negative samples parameter \n",
    "- **epochs = 5**\n",
    "\n",
    "We investigated the f1_scores of **8 executions** (models * languages * metrics) of the lda2vec vs sgns and cbow executions.\n",
    "\n",
    "The result was that **there are NOT significate differences** between the model which were prior initialized and those hadn't.\n",
    "We need to mention that there were not executions with twec alignment method at the above analysis."
   ]
  },
  {
   "cell_type": "code",
   "execution_count": 96,
   "metadata": {
    "pycharm": {
     "name": "#%%\n"
    }
   },
   "outputs": [
    {
     "data": {
      "image/png": "[encoded data removed]",
      "text/plain": [
       "<Figure size 864x576 with 1 Axes>"
      ]
     },
     "metadata": {},
     "output_type": "display_data"
    }
   ],
   "source": [
    "sns.set()\n",
    "fig, ax = plt.subplots(figsize=(12,8))\n",
    "sns.boxplot( saturation=1, palette='BuGn',ax=ax, whis=[5, 95],x=model_df['w2vec_algorithm'],y=model_df['accuracy_score'])\n",
    "# specify axis labels\n",
    "plt.xlabel('', size=14, family='monospace')\n",
    "plt.ylabel('', size=14, family='monospace')\n",
    "plt.title('F1 Scores per Represenation model')\n",
    "plt.show()"
   ]
  },
  {
   "cell_type": "markdown",
   "metadata": {
    "pycharm": {
     "name": "#%% md\n"
    }
   },
   "source": [
    "## Results summary"
   ]
  },
  {
   "cell_type": "markdown",
   "metadata": {
    "pycharm": {
     "name": "#%% md\n"
    }
   },
   "source": [
    "We have seen that in our set up (parameter setting) and the limitations (low volume of training data) we found that:\n",
    "1. There are **NO statistical significant** differences among the different methods of alignment\n",
    "2. When models' weights are prior initialized with pretrained weights, there is a **statistical significant** difference with an increase of 16% on the median value.\n",
    "3. There are **NO statistical significant** differences among the models of word2vec and lda2vec.\n",
    "   However, an other finding is that the metric of local_neighborhood (LN) measure outstands cosine_distance(CD) f1_scores.\n",
    "   mean(CD_lda2vec_f1_scores) --> 0,844\n",
    "   mean(LN_lda2vec_f1_scores) --> 2,343\n",
    "   percentage of increase: (2,343-0,844)/0,844= 170%\n",
    "\n",
    "   **UNDER INVESTIGATION**"
   ]
  },
  {
   "cell_type": "code",
   "execution_count": 97,
   "metadata": {
    "pycharm": {
     "name": "#%%\n"
    }
   },
   "outputs": [
    {
     "name": "stdout",
     "output_type": "stream",
     "text": [
      "    language w2vec_algorithm     mapping       metric  accuracy_score\n",
      "96        en            cbow  procrustes  accuracy_ln        0.351351\n",
      "6         en            cbow  procrustes  accuracy_cd        0.378378\n",
      "5        lat         lda2vec  procrustes  accuracy_cd        0.400000\n",
      "80        en            sgns  procrustes  accuracy_ln        0.405405\n",
      "14       lat            cbow  procrustes  accuracy_cd        0.475000\n",
      "2         en            sgns  procrustes  accuracy_cd        0.486486\n",
      "73       lat            cbow  procrustes  accuracy_ln        0.500000\n",
      "60       lat            sgns  procrustes  accuracy_ln        0.525000\n",
      "22       lat            sgns  procrustes  accuracy_cd        0.550000\n",
      "103      lat         lda2vec  procrustes  accuracy_ln        0.550000\n",
      "76        en         lda2vec  procrustes  accuracy_ln        0.567568\n",
      "17        en         lda2vec  procrustes  accuracy_cd        0.621622\n"
     ]
    }
   ],
   "source": [
    "print(model_df.sort_values(by=['accuracy_score']))"
   ]
  },
  {
   "cell_type": "code",
   "execution_count": 100,
   "metadata": {
    "pycharm": {
     "name": "#%%\n"
    },
    "scrolled": false
   },
   "outputs": [
    {
     "ename": "KeyError",
     "evalue": "'w2vec_algorithm'",
     "output_type": "error",
     "traceback": [
      "\u001b[0;31m---------------------------------------------------------------------------\u001b[0m",
      "\u001b[0;31mKeyError\u001b[0m                                  Traceback (most recent call last)",
      "File \u001b[0;32m~/miniconda3/envs/test-thesis/lib/python3.9/site-packages/pandas/core/indexes/base.py:3621\u001b[0m, in \u001b[0;36mIndex.get_loc\u001b[0;34m(self, key, method, tolerance)\u001b[0m\n\u001b[1;32m   3620\u001b[0m \u001b[38;5;28;01mtry\u001b[39;00m:\n\u001b[0;32m-> 3621\u001b[0m     \u001b[38;5;28;01mreturn\u001b[39;00m \u001b[38;5;28;43mself\u001b[39;49m\u001b[38;5;241;43m.\u001b[39;49m\u001b[43m_engine\u001b[49m\u001b[38;5;241;43m.\u001b[39;49m\u001b[43mget_loc\u001b[49m\u001b[43m(\u001b[49m\u001b[43mcasted_key\u001b[49m\u001b[43m)\u001b[49m\n\u001b[1;32m   3622\u001b[0m \u001b[38;5;28;01mexcept\u001b[39;00m \u001b[38;5;167;01mKeyError\u001b[39;00m \u001b[38;5;28;01mas\u001b[39;00m err:\n",
      "File \u001b[0;32m~/miniconda3/envs/test-thesis/lib/python3.9/site-packages/pandas/_libs/index.pyx:136\u001b[0m, in \u001b[0;36mpandas._libs.index.IndexEngine.get_loc\u001b[0;34m()\u001b[0m\n",
      "File \u001b[0;32m~/miniconda3/envs/test-thesis/lib/python3.9/site-packages/pandas/_libs/index.pyx:144\u001b[0m, in \u001b[0;36mpandas._libs.index.IndexEngine.get_loc\u001b[0;34m()\u001b[0m\n",
      "File \u001b[0;32mpandas/_libs/index_class_helper.pxi:41\u001b[0m, in \u001b[0;36mpandas._libs.index.Int64Engine._check_type\u001b[0;34m()\u001b[0m\n",
      "\u001b[0;31mKeyError\u001b[0m: 'w2vec_algorithm'",
      "\nThe above exception was the direct cause of the following exception:\n",
      "\u001b[0;31mKeyError\u001b[0m                                  Traceback (most recent call last)",
      "Input \u001b[0;32mIn [100]\u001b[0m, in \u001b[0;36m<cell line: 5>\u001b[0;34m()\u001b[0m\n\u001b[1;32m      3\u001b[0m sns\u001b[38;5;241m.\u001b[39mset()\n\u001b[1;32m      4\u001b[0m fig, ax \u001b[38;5;241m=\u001b[39m plt\u001b[38;5;241m.\u001b[39msubplots(figsize\u001b[38;5;241m=\u001b[39m(\u001b[38;5;241m12\u001b[39m,\u001b[38;5;241m8\u001b[39m))\n\u001b[0;32m----> 5\u001b[0m sns\u001b[38;5;241m.\u001b[39mboxplot( saturation\u001b[38;5;241m=\u001b[39m\u001b[38;5;241m1\u001b[39m, palette\u001b[38;5;241m=\u001b[39m\u001b[38;5;124m'\u001b[39m\u001b[38;5;124mBuGn\u001b[39m\u001b[38;5;124m'\u001b[39m,ax\u001b[38;5;241m=\u001b[39max, whis\u001b[38;5;241m=\u001b[39m[\u001b[38;5;241m5\u001b[39m, \u001b[38;5;241m95\u001b[39m],x\u001b[38;5;241m=\u001b[39m\u001b[43mkati_df\u001b[49m\u001b[43m[\u001b[49m\u001b[38;5;124;43m'\u001b[39;49m\u001b[38;5;124;43mw2vec_algorithm\u001b[39;49m\u001b[38;5;124;43m'\u001b[39;49m\u001b[43m]\u001b[49m,y\u001b[38;5;241m=\u001b[39mkati_df[\u001b[38;5;124m'\u001b[39m\u001b[38;5;124maccuracy_score\u001b[39m\u001b[38;5;124m'\u001b[39m])\n\u001b[1;32m      6\u001b[0m \u001b[38;5;66;03m# specify axis labels\u001b[39;00m\n\u001b[1;32m      7\u001b[0m plt\u001b[38;5;241m.\u001b[39mxlabel(\u001b[38;5;124m'\u001b[39m\u001b[38;5;124m'\u001b[39m, size\u001b[38;5;241m=\u001b[39m\u001b[38;5;241m14\u001b[39m, family\u001b[38;5;241m=\u001b[39m\u001b[38;5;124m'\u001b[39m\u001b[38;5;124mmonospace\u001b[39m\u001b[38;5;124m'\u001b[39m)\n",
      "File \u001b[0;32m~/miniconda3/envs/test-thesis/lib/python3.9/site-packages/pandas/core/series.py:959\u001b[0m, in \u001b[0;36mSeries.__getitem__\u001b[0;34m(self, key)\u001b[0m\n\u001b[1;32m    956\u001b[0m     \u001b[38;5;28;01mreturn\u001b[39;00m \u001b[38;5;28mself\u001b[39m\u001b[38;5;241m.\u001b[39m_values[key]\n\u001b[1;32m    958\u001b[0m \u001b[38;5;28;01melif\u001b[39;00m key_is_scalar:\n\u001b[0;32m--> 959\u001b[0m     \u001b[38;5;28;01mreturn\u001b[39;00m \u001b[38;5;28;43mself\u001b[39;49m\u001b[38;5;241;43m.\u001b[39;49m\u001b[43m_get_value\u001b[49m\u001b[43m(\u001b[49m\u001b[43mkey\u001b[49m\u001b[43m)\u001b[49m\n\u001b[1;32m    961\u001b[0m \u001b[38;5;28;01mif\u001b[39;00m is_hashable(key):\n\u001b[1;32m    962\u001b[0m     \u001b[38;5;66;03m# Otherwise index.get_value will raise InvalidIndexError\u001b[39;00m\n\u001b[1;32m    963\u001b[0m     \u001b[38;5;28;01mtry\u001b[39;00m:\n\u001b[1;32m    964\u001b[0m         \u001b[38;5;66;03m# For labels that don't resolve as scalars like tuples and frozensets\u001b[39;00m\n",
      "File \u001b[0;32m~/miniconda3/envs/test-thesis/lib/python3.9/site-packages/pandas/core/series.py:1070\u001b[0m, in \u001b[0;36mSeries._get_value\u001b[0;34m(self, label, takeable)\u001b[0m\n\u001b[1;32m   1067\u001b[0m     \u001b[38;5;28;01mreturn\u001b[39;00m \u001b[38;5;28mself\u001b[39m\u001b[38;5;241m.\u001b[39m_values[label]\n\u001b[1;32m   1069\u001b[0m \u001b[38;5;66;03m# Similar to Index.get_value, but we do not fall back to positional\u001b[39;00m\n\u001b[0;32m-> 1070\u001b[0m loc \u001b[38;5;241m=\u001b[39m \u001b[38;5;28;43mself\u001b[39;49m\u001b[38;5;241;43m.\u001b[39;49m\u001b[43mindex\u001b[49m\u001b[38;5;241;43m.\u001b[39;49m\u001b[43mget_loc\u001b[49m\u001b[43m(\u001b[49m\u001b[43mlabel\u001b[49m\u001b[43m)\u001b[49m\n\u001b[1;32m   1071\u001b[0m \u001b[38;5;28;01mreturn\u001b[39;00m \u001b[38;5;28mself\u001b[39m\u001b[38;5;241m.\u001b[39mindex\u001b[38;5;241m.\u001b[39m_get_values_for_loc(\u001b[38;5;28mself\u001b[39m, loc, label)\n",
      "File \u001b[0;32m~/miniconda3/envs/test-thesis/lib/python3.9/site-packages/pandas/core/indexes/base.py:3623\u001b[0m, in \u001b[0;36mIndex.get_loc\u001b[0;34m(self, key, method, tolerance)\u001b[0m\n\u001b[1;32m   3621\u001b[0m     \u001b[38;5;28;01mreturn\u001b[39;00m \u001b[38;5;28mself\u001b[39m\u001b[38;5;241m.\u001b[39m_engine\u001b[38;5;241m.\u001b[39mget_loc(casted_key)\n\u001b[1;32m   3622\u001b[0m \u001b[38;5;28;01mexcept\u001b[39;00m \u001b[38;5;167;01mKeyError\u001b[39;00m \u001b[38;5;28;01mas\u001b[39;00m err:\n\u001b[0;32m-> 3623\u001b[0m     \u001b[38;5;28;01mraise\u001b[39;00m \u001b[38;5;167;01mKeyError\u001b[39;00m(key) \u001b[38;5;28;01mfrom\u001b[39;00m \u001b[38;5;21;01merr\u001b[39;00m\n\u001b[1;32m   3624\u001b[0m \u001b[38;5;28;01mexcept\u001b[39;00m \u001b[38;5;167;01mTypeError\u001b[39;00m:\n\u001b[1;32m   3625\u001b[0m     \u001b[38;5;66;03m# If we have a listlike key, _check_indexing_error will raise\u001b[39;00m\n\u001b[1;32m   3626\u001b[0m     \u001b[38;5;66;03m#  InvalidIndexError. Otherwise we fall through and re-raise\u001b[39;00m\n\u001b[1;32m   3627\u001b[0m     \u001b[38;5;66;03m#  the TypeError.\u001b[39;00m\n\u001b[1;32m   3628\u001b[0m     \u001b[38;5;28mself\u001b[39m\u001b[38;5;241m.\u001b[39m_check_indexing_error(key)\n",
      "\u001b[0;31mKeyError\u001b[0m: 'w2vec_algorithm'"
     ]
    },
    {
     "data": {
      "image/png": "[encoded data removed]",
      "text/plain": [
       "<Figure size 864x576 with 1 Axes>"
      ]
     },
     "metadata": {},
     "output_type": "display_data"
    }
   ],
   "source": [
    "kati_df = model_df.loc[model_df['w2vec_algorithm'] == 'lda2vec','accuracy_score']\n",
    "\n",
    "sns.set()\n",
    "fig, ax = plt.subplots(figsize=(12,8))\n",
    "sns.boxplot( saturation=1, palette='BuGn',ax=ax, whis=[5, 95],x=kati_df['w2vec_algorithm'],y=kati_df['accuracy_score'])\n",
    "# specify axis labels\n",
    "plt.xlabel('', size=14, family='monospace')\n",
    "plt.ylabel('', size=14, family='monospace')\n",
    "plt.title('F1 Scores per Represenation model')\n",
    "plt.show()\n",
    "\n"
   ]
  },
  {
   "cell_type": "markdown",
   "metadata": {},
   "source": [
    "## Results summary"
   ]
  },
  {
   "cell_type": "markdown",
   "metadata": {},
   "source": [
    "We have seen that in our set up (parameter setting) and the limitations (low volume of training data) we found that:\n",
    "1. There are **NO statistical significant** differences among the different methods of alignment\n",
    "2. When models' weights are prior initialized with pretrained weights, there is a **statistical significant** difference with an increase of 16% on the median value.\n",
    "3. There are **NO statistical significant** differences among the models of word2vec and lda2vec.\n",
    "   However, an other finding is that the local_neighborhood (LN) measure outstands cosine_distance(CD) f1_scores.\n",
    "   mean(CD_lda2vec_f1_scores) --> 0,844\n",
    "   mean(LN_lda2vec_f1_scores) --> 2,343\n",
    "   percentage of increase: (2,343-0,844)/0,844= 170%\n",
    "\n",
    "   **UNDER INVESTIGATION**"
   ]
  },
  {
   "cell_type": "code",
   "execution_count": 102,
   "metadata": {},
   "outputs": [
    {
     "name": "stdout",
     "output_type": "stream",
     "text": [
      "5      0.400000\n",
      "17     0.621622\n",
      "76     0.567568\n",
      "103    0.550000\n",
      "Name: accuracy_score, dtype: float64\n"
     ]
    }
   ],
   "source": [
    "print(model_df.loc[model_df['w2vec_algorithm'] == 'lda2vec','accuracy_score'])"
   ]
  },
  {
   "cell_type": "code",
   "execution_count": 103,
   "metadata": {},
   "outputs": [
    {
     "ename": "NameError",
     "evalue": "name 'key' is not defined",
     "output_type": "error",
     "traceback": [
      "\u001b[0;31m---------------------------------------------------------------------------\u001b[0m",
      "\u001b[0;31mNameError\u001b[0m                                 Traceback (most recent call last)",
      "Input \u001b[0;32mIn [103]\u001b[0m, in \u001b[0;36m<cell line: 3>\u001b[0;34m()\u001b[0m\n\u001b[1;32m      1\u001b[0m executions_df \u001b[38;5;241m=\u001b[39m pd\u001b[38;5;241m.\u001b[39mDataFrame(columns \u001b[38;5;241m=\u001b[39m [\u001b[38;5;124m'\u001b[39m\u001b[38;5;124mw2vec_algorithm\u001b[39m\u001b[38;5;124m'\u001b[39m, \u001b[38;5;124m'\u001b[39m\u001b[38;5;124mmetric\u001b[39m\u001b[38;5;124m'\u001b[39m,\u001b[38;5;124m'\u001b[39m\u001b[38;5;124maccuracy_score\u001b[39m\u001b[38;5;124m'\u001b[39m])\n\u001b[0;32m----> 3\u001b[0m executions_df\u001b[38;5;241m.\u001b[39mloc[count] \u001b[38;5;241m=\u001b[39m [\u001b[43mkey\u001b[49m, dim, window, epoch,\u001b[38;5;28mround\u001b[39m(f1_score(docs_true, docs_pred),\u001b[38;5;241m3\u001b[39m),\n\u001b[1;32m      4\u001b[0m                                         \u001b[38;5;28mround\u001b[39m(accuracy_score(docs_true, docs_pred),\u001b[38;5;241m3\u001b[39m),\n\u001b[1;32m      5\u001b[0m                                         \u001b[38;5;28mround\u001b[39m(precision_score(docs_true, docs_pred),\u001b[38;5;241m3\u001b[39m),\n\u001b[1;32m      6\u001b[0m                                         \u001b[38;5;28mround\u001b[39m(recall_score(docs_true, docs_pred),\u001b[38;5;241m3\u001b[39m)]\n",
      "\u001b[0;31mNameError\u001b[0m: name 'key' is not defined"
     ]
    }
   ],
   "source": [
    "executions_df = pd.DataFrame(columns = ['w2vec_algorithm', 'metric','accuracy_score'])\n",
    "\n",
    "executions_df.loc[count] = [key, dim, window, epoch,round(f1_score(docs_true, docs_pred),3),\n",
    "                                        round(accuracy_score(docs_true, docs_pred),3),\n",
    "                                        round(precision_score(docs_true, docs_pred),3),\n",
    "                                        round(recall_score(docs_true, docs_pred),3)]\n"
   ]
  },
  {
   "cell_type": "code",
   "execution_count": 70,
   "metadata": {},
   "outputs": [
    {
     "data": {
      "image/png": "[encoded data removed]",
      "text/plain": [
       "<Figure size 864x576 with 1 Axes>"
      ]
     },
     "metadata": {},
     "output_type": "display_data"
    }
   ],
   "source": [
    "sns.set()\n",
    "fig, ax = plt.subplots(figsize=(12,8))\n",
    "sns.barplot(saturation=1,palette='BuGn',x = model_df['w2vec_algorithm'], y = model_df['f1_score'], ci = None,hue = \"metric\",data = model_df)\n",
    "# specify axis labels\n",
    "plt.xlabel('', size=14, family='monospace')\n",
    "plt.ylabel('', size=14, family='monospace')\n",
    "plt.title('F1 Scores per Represenation model')\n",
    "plt.show()\n"
   ]
  },
  {
   "cell_type": "code",
   "execution_count": null,
   "metadata": {},
   "outputs": [],
   "source": []
  }
 ],
 "metadata": {
  "kernelspec": {
   "display_name": "test-thesis",
   "language": "python",
   "name": "test-thesis"
  },
  "language_info": {
   "codemirror_mode": {
    "name": "ipython",
    "version": 3
   },
   "file_extension": ".py",
   "mimetype": "text/x-python",
   "name": "python",
   "nbconvert_exporter": "python",
   "pygments_lexer": "ipython3",
   "version": "3.9.1"
  }
 },
 "nbformat": 4,
 "nbformat_minor": 1
}

{
 "cells": [
  {
   "cell_type": "markdown",
   "metadata": {
    "pycharm": {
     "name": "#%% md\n"
    }
   },
   "source": [
    "# Prepare"
   ]
  },
  {
   "cell_type": "code",
   "execution_count": 22,
   "metadata": {
    "pycharm": {
     "name": "#%%\n"
    }
   },
   "outputs": [],
   "source": [
    "import numpy as np\n",
    "import torch\n",
    "from glob import glob\n",
    "import os\n",
    "\n",
    "import matplotlib.pyplot as plt\n",
    "%matplotlib inline\n",
    "\n",
    "def softmax(x):\n",
    "    # x has shape [batch_size, n_classes]\n",
    "    x = x - np.tile(np.max(x, axis=1).reshape((-1,1)), x.shape[1])\n",
    "    \n",
    "    e = np.exp(x)\n",
    "    n = np.sum(e, 1, keepdims=True)\n",
    "    return e/n\n",
    "\n",
    "import json\n",
    "with open('../data/lemma_docids.json', 'r') as fp:\n",
    "    texts = json.load(fp)\n",
    "\n",
    "decoder = np.load('../npy/decoder.npy', allow_pickle=True).item()\n"
   ]
  },
  {
   "cell_type": "markdown",
   "metadata": {
    "pycharm": {
     "name": "#%% md\n"
    }
   },
   "source": [
    "# Show Topics"
   ]
  },
  {
   "cell_type": "code",
   "execution_count": 1,
   "metadata": {
    "pycharm": {
     "name": "#%%\n"
    }
   },
   "outputs": [
    {
     "ename": "NameError",
     "evalue": "name 'glob' is not defined",
     "output_type": "error",
     "traceback": [
      "\u001B[0;31m---------------------------------------------------------------------------\u001B[0m",
      "\u001B[0;31mNameError\u001B[0m                                 Traceback (most recent call last)",
      "Input \u001B[0;32mIn [1]\u001B[0m, in \u001B[0;36m<cell line: 2>\u001B[0;34m()\u001B[0m\n\u001B[1;32m      1\u001B[0m \u001B[38;5;66;03m# load recent model\u001B[39;00m\n\u001B[0;32m----> 2\u001B[0m model_list \u001B[38;5;241m=\u001B[39m \u001B[43mglob\u001B[49m(os\u001B[38;5;241m.\u001B[39mpath\u001B[38;5;241m.\u001B[39mjoin(\u001B[38;5;124m'\u001B[39m\u001B[38;5;124m../checkpoint\u001B[39m\u001B[38;5;124m'\u001B[39m, \u001B[38;5;124m'\u001B[39m\u001B[38;5;124m*.pt\u001B[39m\u001B[38;5;124m'\u001B[39m))\n\u001B[1;32m      3\u001B[0m model_list2 \u001B[38;5;241m=\u001B[39m []\n\u001B[1;32m      4\u001B[0m \u001B[38;5;28;01mif\u001B[39;00m \u001B[38;5;129;01mnot\u001B[39;00m \u001B[38;5;28mlen\u001B[39m(model_list) \u001B[38;5;241m==\u001B[39m \u001B[38;5;241m0\u001B[39m:\n",
      "\u001B[0;31mNameError\u001B[0m: name 'glob' is not defined"
     ]
    }
   ],
   "source": [
    "# load recent model\n",
    "model_list = glob(os.path.join('../checkpoint', '*.pt'))\n",
    "model_list2 = []\n",
    "if not len(model_list) == 0:\n",
    "    for m in model_list:\n",
    "        model_list2.append((m, int(m.split('/')[-1].split('_')[0])))\n",
    "    # [('../checkpoint/5_epoch_model_state.pt', 5)]\n",
    "    model_list2 = sorted(model_list2, key=lambda x:x[1])\n",
    "\n",
    "\n",
    "    start_epoch = model_list2[-1][1] + 1\n",
    "\n",
    "    # load '../checkpoint/5_epoch_model_state.pt'\n",
    "    state = torch.load(model_list2[-1][0], map_location=lambda storage, loc: storage)\n",
    "    print(f\" [*] Load SUCCESS: {model_list2[-1][0]}\")\n",
    "\n",
    "    \n",
    "n_topics = state['topics.topic_vectors'].shape[0]\n",
    "doc_weights = state['doc_weights.weight'].cpu().clone().numpy()\n",
    "topic_vectors = state['topics.topic_vectors'].cpu().clone().numpy()\n",
    "word_vectors = state['neg.embedding.weight'].cpu().clone().numpy()\n",
    "\n",
    "# distribution over the topics for each document\n",
    "topic_dist = softmax(doc_weights)\n",
    "\n",
    "similarity = np.matmul(topic_vectors, word_vectors.T)\n",
    "most_similar = similarity.argsort(axis=1)[:, -10:]\n",
    "\n",
    "for j in range(n_topics):\n",
    "    topic_words = ' '.join([decoder[i] for i in reversed(most_similar[j])])\n",
    "    #print('topic', j + 1, ':', topic_words)\n",
    "\n",
    "print(doc_weights.shape)\n",
    "print(topic_vectors.shape)\n",
    "print(word_vectors.shape)\n",
    "print(word_vectors[0])"
   ]
  },
  {
   "cell_type": "markdown",
   "metadata": {
    "pycharm": {
     "name": "#%% md\n"
    }
   },
   "source": [
    "# Topic distribution over epochs"
   ]
  },
  {
   "cell_type": "markdown",
   "metadata": {
    "pycharm": {
     "name": "#%% md\n"
    }
   },
   "source": [
    "### As training goes on, document weight vector becomes sparser."
   ]
  },
  {
   "cell_type": "code",
   "execution_count": 24,
   "metadata": {
    "pycharm": {
     "name": "#%%\n"
    }
   },
   "outputs": [
    {
     "data": {
      "text/plain": "<Figure size 432x288 with 1 Axes>",
      "image/png": "[encoded data removed]"
     },
     "metadata": {
      "needs_background": "light"
     },
     "output_type": "display_data"
    }
   ],
   "source": [
    "for each, epoch in model_list2[:-1:(len(model_list2)//10)+1][:2] + [model_list2[-1]]:\n",
    "    state = torch.load(f'{each}', map_location=lambda storage, loc: storage)\n",
    "    doc_weights = state['doc_weights.weight'].cpu().clone().numpy()\n",
    "\n",
    "    # distribution over the topics for each document\n",
    "    topic_dist = softmax(doc_weights)\n",
    "\n",
    "    # distribution of nonzero probabilities\n",
    "    dist = topic_dist.reshape(-1)\n",
    "    plt.hist(dist[dist > 0.01], bins=40);\n",
    "    plt.title(f'epoch: {epoch}')\n",
    "    plt.show()\n",
    "    "
   ]
  },
  {
   "cell_type": "markdown",
   "metadata": {
    "pycharm": {
     "name": "#%% md\n"
    }
   },
   "source": [
    "# Correlation of topic assignments"
   ]
  },
  {
   "cell_type": "code",
   "execution_count": 25,
   "metadata": {
    "pycharm": {
     "name": "#%%\n"
    }
   },
   "outputs": [
    {
     "data": {
      "text/plain": "<Figure size 432x288 with 2 Axes>",
      "image/png": "[encoded data removed]"
     },
     "metadata": {
      "needs_background": "light"
     },
     "output_type": "display_data"
    }
   ],
   "source": [
    "corr = np.corrcoef(topic_dist.transpose(1, 0))\n",
    "plt.imshow(corr);\n",
    "plt.colorbar();\n"
   ]
  },
  {
   "cell_type": "markdown",
   "metadata": {
    "pycharm": {
     "name": "#%% md\n"
    }
   },
   "source": [
    "# Show a document and its topics"
   ]
  },
  {
   "cell_type": "code",
   "execution_count": 26,
   "metadata": {
    "scrolled": false,
    "pycharm": {
     "name": "#%%\n"
    }
   },
   "outputs": [
    {
     "name": "stdout",
     "output_type": "stream",
     "text": [
      "# of targetTopic docs: 0. (total 222523)\n",
      "\n"
     ]
    },
    {
     "ename": "ValueError",
     "evalue": "'a' cannot be empty unless no samples are taken",
     "output_type": "error",
     "traceback": [
      "\u001B[0;31m---------------------------------------------------------------------------\u001B[0m",
      "\u001B[0;31mValueError\u001B[0m                                Traceback (most recent call last)",
      "Input \u001B[0;32mIn [26]\u001B[0m, in \u001B[0;36m<cell line: 6>\u001B[0;34m()\u001B[0m\n\u001B[1;32m      4\u001B[0m possibleI \u001B[38;5;241m=\u001B[39m [i[\u001B[38;5;241m1\u001B[39m] \u001B[38;5;28;01mfor\u001B[39;00m i \u001B[38;5;129;01min\u001B[39;00m \u001B[38;5;28mfilter\u001B[39m(\u001B[38;5;28;01mlambda\u001B[39;00m x: x[\u001B[38;5;241m0\u001B[39m] \u001B[38;5;241m==\u001B[39m targetTopic\u001B[38;5;241m-\u001B[39m\u001B[38;5;241m1\u001B[39m, prominentTopicWithInd)]\n\u001B[1;32m      5\u001B[0m \u001B[38;5;28mprint\u001B[39m(\u001B[38;5;124mf\u001B[39m\u001B[38;5;124m'\u001B[39m\u001B[38;5;124m# of targetTopic docs: \u001B[39m\u001B[38;5;132;01m{\u001B[39;00m\u001B[38;5;28mlen\u001B[39m(possibleI)\u001B[38;5;132;01m}\u001B[39;00m\u001B[38;5;124m. (total \u001B[39m\u001B[38;5;132;01m{\u001B[39;00m\u001B[38;5;28mlen\u001B[39m(texts)\u001B[38;5;132;01m}\u001B[39;00m\u001B[38;5;124m)\u001B[39m\u001B[38;5;130;01m\\n\u001B[39;00m\u001B[38;5;124m'\u001B[39m)\n\u001B[0;32m----> 6\u001B[0m i \u001B[38;5;241m=\u001B[39m \u001B[43mnp\u001B[49m\u001B[38;5;241;43m.\u001B[39;49m\u001B[43mrandom\u001B[49m\u001B[38;5;241;43m.\u001B[39;49m\u001B[43mchoice\u001B[49m\u001B[43m(\u001B[49m\u001B[43mpossibleI\u001B[49m\u001B[43m)\u001B[49m\n\u001B[1;32m      8\u001B[0m \u001B[38;5;28mprint\u001B[39m(\u001B[38;5;124mf\u001B[39m\u001B[38;5;124m'\u001B[39m\u001B[38;5;124mDOCUMENT index: \u001B[39m\u001B[38;5;132;01m{\u001B[39;00mi\u001B[38;5;132;01m}\u001B[39;00m\u001B[38;5;124m'\u001B[39m)\n\u001B[1;32m      9\u001B[0m \u001B[38;5;28mprint\u001B[39m(texts[i][\u001B[38;5;241m1\u001B[39m], \u001B[38;5;124m'\u001B[39m\u001B[38;5;130;01m\\n\u001B[39;00m\u001B[38;5;124m'\u001B[39m)\n",
      "File \u001B[0;32mmtrand.pyx:915\u001B[0m, in \u001B[0;36mnumpy.random.mtrand.RandomState.choice\u001B[0;34m()\u001B[0m\n",
      "\u001B[0;31mValueError\u001B[0m: 'a' cannot be empty unless no samples are taken"
     ]
    }
   ],
   "source": [
    "targetTopic = 20\n",
    "\n",
    "prominentTopicWithInd = [(i[0], i[1]) for i in zip(np.argmax(topic_dist, axis=1), range(len(texts)))]\n",
    "possibleI = [i[1] for i in filter(lambda x: x[0] == targetTopic-1, prominentTopicWithInd)]\n",
    "print(f'# of targetTopic docs: {len(possibleI)}. (total {len(texts)})\\n')\n",
    "i = np.random.choice(possibleI)\n",
    "\n",
    "print(f'DOCUMENT index: {i}')\n",
    "print(texts[i][1], '\\n')\n",
    "\n",
    "print('DISTRIBUTION OVER TOPICS:')\n",
    "s = ''\n",
    "for j, p in enumerate(topic_dist[i], 1):\n",
    "    s += '{0}:{1:.3f}  '.format(j, p)\n",
    "    if j%6 == 0:\n",
    "        s += '\\n'\n",
    "print(s)\n",
    "\n",
    "\n",
    "print('\\nTOP TOPICS:')\n",
    "for j in reversed(topic_dist[i].argsort()[-3:]):\n",
    "    topic_words = ' '.join([decoder[i] for i in reversed(most_similar[j])])\n",
    "    print('topic', j + 1, ':', topic_words, ',', topic_dist[i][j])"
   ]
  },
  {
   "cell_type": "markdown",
   "metadata": {
    "pycharm": {
     "name": "#%% md\n"
    }
   },
   "source": [
    "# Word Vectors"
   ]
  },
  {
   "cell_type": "code",
   "execution_count": 27,
   "metadata": {
    "pycharm": {
     "name": "#%%\n"
    }
   },
   "outputs": [],
   "source": [
    "word_vectors_norm = word_vectors / np.linalg.norm(word_vectors, axis=-1)[:, None]\n",
    "rev_decoder = {v: k for k,v in decoder.items()}\n",
    "vocab = [i for i,j in sorted(rev_decoder.items(), key=lambda x:x[1])]\n",
    "\n",
    "def get_vector(token):\n",
    "    index = vocab.index(token)\n",
    "    return word_vectors_norm[index, :].copy()\n",
    "\n",
    "def most_similar_func(token, n=20):\n",
    "    word_vector = get_vector(token)\n",
    "    similarities = np.dot(word_vectors, word_vector)\n",
    "    top = np.argsort(similarities)[::-1][:n]\n",
    "    return [vocab[i] for i in top]\n",
    "\n",
    "# This is Levy & Goldberg's 3Cosmul Metric\n",
    "# Based on the Gensim implementation: https://github.com/piskvorky/gensim/blob/master/gensim/models/word2vec.py\n",
    "def cosmul(positives, negatives, topn=20):\n",
    "    positive = [get_vector(p) for p in positives]\n",
    "    negative = [get_vector(n) for n in negatives]\n",
    "    pos_dists = [((1 + np.dot(word_vectors_norm, term)) / 2.) for term in positive]\n",
    "    neg_dists = [((1 + np.dot(word_vectors_norm, term)) / 2.) for term in negative]\n",
    "    dists = np.prod(pos_dists, axis=0) / (np.prod(neg_dists, axis=0) + 1e-6)\n",
    "    idxs = np.argsort(dists)[::-1][:topn]\n",
    "    return [vocab[i] for i in idxs if (vocab[i] not in positives) and (vocab[i] not in negatives)]\n",
    "\n",
    "def most_similar_posneg(positives, negatives, topn=20):\n",
    "    positive = np.sum([get_vector(p) for p in positives], axis=0)\n",
    "    negative = np.sum([get_vector(n) for n in negatives], axis=0)\n",
    "    vector = positive - negative\n",
    "    dists = np.dot(word_vectors_norm, vector)\n",
    "    idxs = np.argsort(dists)[::-1][:topn]\n",
    "    return [vocab[i] for i in idxs if (vocab[i] not in positives) and (vocab[i] not in negatives)]\n",
    "            "
   ]
  },
  {
   "cell_type": "code",
   "execution_count": 28,
   "metadata": {
    "pycharm": {
     "name": "#%%\n"
    }
   },
   "outputs": [
    {
     "data": {
      "text/plain": "['levant',\n 'educa',\n 'leviston',\n 'beneficially',\n 'pocket',\n 'marriage',\n 'development',\n 'stout',\n 'twa',\n 'sink',\n 'christ',\n 'outdo',\n 'infraction',\n 'contriver',\n 'march',\n 'palm-leaf',\n 'tophet',\n 'thermal',\n 'trade']"
     },
     "execution_count": 28,
     "metadata": {},
     "output_type": "execute_result"
    }
   ],
   "source": [
    "cosmul(['attack_nn'], [], topn=20)"
   ]
  },
  {
   "cell_type": "code",
   "execution_count": null,
   "metadata": {
    "pycharm": {
     "name": "#%%\n"
    }
   },
   "outputs": [],
   "source": [
    "['wait',\n",
    " 'step',\n",
    " 'assume',\n",
    " 'demand',\n",
    " 'sea',\n",
    " 'stop',\n",
    " 'indicate',\n",
    " 'gay',\n",
    " 'de',\n",
    " 'utterly',\n",
    " 'fair',\n",
    " 'embrace',\n",
    " 'tear',\n",
    " 'fate',\n",
    " 'usually',\n",
    " 'melancholy',\n",
    " 'style',\n",
    " 'pale',\n",
    " 'enjoy']"
   ]
  }
 ],
 "metadata": {
  "kernelspec": {
   "display_name": "Python 3",
   "language": "python",
   "name": "python3"
  },
  "language_info": {
   "codemirror_mode": {
    "name": "ipython",
    "version": 3
   },
   "file_extension": ".py",
   "mimetype": "text/x-python",
   "name": "python",
   "nbconvert_exporter": "python",
   "pygments_lexer": "ipython3",
   "version": "3.6.8"
  }
 },
 "nbformat": 4,
 "nbformat_minor": 2
}